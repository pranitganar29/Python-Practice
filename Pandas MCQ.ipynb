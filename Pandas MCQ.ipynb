{
 "cells": [
  {
   "cell_type": "markdown",
   "id": "d140fb7e",
   "metadata": {},
   "source": [
    "1.: What does Pandas stand for?"
   ]
  },
  {
   "cell_type": "markdown",
   "id": "348a1be9",
   "metadata": {},
   "source": [
    "Ans :- Python Data Analysis"
   ]
  },
  {
   "cell_type": "markdown",
   "id": "45cc92bb",
   "metadata": {},
   "source": [
    "2.: What is the primary data structure in Pandas for holding data? "
   ]
  },
  {
   "cell_type": "markdown",
   "id": "0c6ff9b1",
   "metadata": {},
   "source": [
    "Ans :- DataFrame"
   ]
  },
  {
   "cell_type": "markdown",
   "id": "dd1b6bbf",
   "metadata": {},
   "source": [
    "3.: How can you read a CSV file into a Pandas DataFrame?"
   ]
  },
  {
   "cell_type": "markdown",
   "id": "b8905ef5",
   "metadata": {},
   "source": [
    "Ans :- pd.read_csv(\"file.csv\")"
   ]
  },
  {
   "cell_type": "code",
   "execution_count": 1,
   "id": "c2ed4404",
   "metadata": {},
   "outputs": [
    {
     "data": {
      "text/html": [
       "<div>\n",
       "<style scoped>\n",
       "    .dataframe tbody tr th:only-of-type {\n",
       "        vertical-align: middle;\n",
       "    }\n",
       "\n",
       "    .dataframe tbody tr th {\n",
       "        vertical-align: top;\n",
       "    }\n",
       "\n",
       "    .dataframe thead th {\n",
       "        text-align: right;\n",
       "    }\n",
       "</style>\n",
       "<table border=\"1\" class=\"dataframe\">\n",
       "  <thead>\n",
       "    <tr style=\"text-align: right;\">\n",
       "      <th></th>\n",
       "      <th>Date</th>\n",
       "      <th>State</th>\n",
       "      <th>Region</th>\n",
       "      <th>Confirmed</th>\n",
       "      <th>Deaths</th>\n",
       "      <th>Recovered</th>\n",
       "    </tr>\n",
       "  </thead>\n",
       "  <tbody>\n",
       "    <tr>\n",
       "      <th>0</th>\n",
       "      <td>4/29/2020</td>\n",
       "      <td>NaN</td>\n",
       "      <td>Afghanistan</td>\n",
       "      <td>1939</td>\n",
       "      <td>60</td>\n",
       "      <td>252</td>\n",
       "    </tr>\n",
       "    <tr>\n",
       "      <th>1</th>\n",
       "      <td>4/29/2020</td>\n",
       "      <td>NaN</td>\n",
       "      <td>Albania</td>\n",
       "      <td>766</td>\n",
       "      <td>30</td>\n",
       "      <td>455</td>\n",
       "    </tr>\n",
       "    <tr>\n",
       "      <th>2</th>\n",
       "      <td>4/29/2020</td>\n",
       "      <td>NaN</td>\n",
       "      <td>Algeria</td>\n",
       "      <td>3848</td>\n",
       "      <td>444</td>\n",
       "      <td>1702</td>\n",
       "    </tr>\n",
       "    <tr>\n",
       "      <th>3</th>\n",
       "      <td>4/29/2020</td>\n",
       "      <td>NaN</td>\n",
       "      <td>Andorra</td>\n",
       "      <td>743</td>\n",
       "      <td>42</td>\n",
       "      <td>423</td>\n",
       "    </tr>\n",
       "    <tr>\n",
       "      <th>4</th>\n",
       "      <td>4/29/2020</td>\n",
       "      <td>NaN</td>\n",
       "      <td>Angola</td>\n",
       "      <td>27</td>\n",
       "      <td>2</td>\n",
       "      <td>7</td>\n",
       "    </tr>\n",
       "    <tr>\n",
       "      <th>...</th>\n",
       "      <td>...</td>\n",
       "      <td>...</td>\n",
       "      <td>...</td>\n",
       "      <td>...</td>\n",
       "      <td>...</td>\n",
       "      <td>...</td>\n",
       "    </tr>\n",
       "    <tr>\n",
       "      <th>316</th>\n",
       "      <td>4/29/2020</td>\n",
       "      <td>Wyoming</td>\n",
       "      <td>US</td>\n",
       "      <td>545</td>\n",
       "      <td>7</td>\n",
       "      <td>0</td>\n",
       "    </tr>\n",
       "    <tr>\n",
       "      <th>317</th>\n",
       "      <td>4/29/2020</td>\n",
       "      <td>Xinjiang</td>\n",
       "      <td>Mainland China</td>\n",
       "      <td>76</td>\n",
       "      <td>3</td>\n",
       "      <td>73</td>\n",
       "    </tr>\n",
       "    <tr>\n",
       "      <th>318</th>\n",
       "      <td>4/29/2020</td>\n",
       "      <td>Yukon</td>\n",
       "      <td>Canada</td>\n",
       "      <td>11</td>\n",
       "      <td>0</td>\n",
       "      <td>0</td>\n",
       "    </tr>\n",
       "    <tr>\n",
       "      <th>319</th>\n",
       "      <td>4/29/2020</td>\n",
       "      <td>Yunnan</td>\n",
       "      <td>Mainland China</td>\n",
       "      <td>185</td>\n",
       "      <td>2</td>\n",
       "      <td>181</td>\n",
       "    </tr>\n",
       "    <tr>\n",
       "      <th>320</th>\n",
       "      <td>4/29/2020</td>\n",
       "      <td>Zhejiang</td>\n",
       "      <td>Mainland China</td>\n",
       "      <td>1268</td>\n",
       "      <td>1</td>\n",
       "      <td>1263</td>\n",
       "    </tr>\n",
       "  </tbody>\n",
       "</table>\n",
       "<p>321 rows × 6 columns</p>\n",
       "</div>"
      ],
      "text/plain": [
       "          Date     State          Region  Confirmed  Deaths  Recovered\n",
       "0    4/29/2020       NaN     Afghanistan       1939      60        252\n",
       "1    4/29/2020       NaN         Albania        766      30        455\n",
       "2    4/29/2020       NaN         Algeria       3848     444       1702\n",
       "3    4/29/2020       NaN         Andorra        743      42        423\n",
       "4    4/29/2020       NaN          Angola         27       2          7\n",
       "..         ...       ...             ...        ...     ...        ...\n",
       "316  4/29/2020   Wyoming              US        545       7          0\n",
       "317  4/29/2020  Xinjiang  Mainland China         76       3         73\n",
       "318  4/29/2020     Yukon          Canada         11       0          0\n",
       "319  4/29/2020    Yunnan  Mainland China        185       2        181\n",
       "320  4/29/2020  Zhejiang  Mainland China       1268       1       1263\n",
       "\n",
       "[321 rows x 6 columns]"
      ]
     },
     "execution_count": 1,
     "metadata": {},
     "output_type": "execute_result"
    }
   ],
   "source": [
    "import pandas as pd\n",
    "df = pd.read_csv('D:\\pranit\\Ed-Byte\\Files\\Covid_19_data.csv')\n",
    "df"
   ]
  },
  {
   "cell_type": "markdown",
   "id": "a7b04dde",
   "metadata": {},
   "source": [
    "4.: What does the head() function in Pandas do?"
   ]
  },
  {
   "cell_type": "markdown",
   "id": "3e06711c",
   "metadata": {},
   "source": [
    "Ans :- Returns the first few rows of a DataFrame. "
   ]
  },
  {
   "cell_type": "code",
   "execution_count": 2,
   "id": "b18694fd",
   "metadata": {},
   "outputs": [
    {
     "data": {
      "text/html": [
       "<div>\n",
       "<style scoped>\n",
       "    .dataframe tbody tr th:only-of-type {\n",
       "        vertical-align: middle;\n",
       "    }\n",
       "\n",
       "    .dataframe tbody tr th {\n",
       "        vertical-align: top;\n",
       "    }\n",
       "\n",
       "    .dataframe thead th {\n",
       "        text-align: right;\n",
       "    }\n",
       "</style>\n",
       "<table border=\"1\" class=\"dataframe\">\n",
       "  <thead>\n",
       "    <tr style=\"text-align: right;\">\n",
       "      <th></th>\n",
       "      <th>Date</th>\n",
       "      <th>State</th>\n",
       "      <th>Region</th>\n",
       "      <th>Confirmed</th>\n",
       "      <th>Deaths</th>\n",
       "      <th>Recovered</th>\n",
       "    </tr>\n",
       "  </thead>\n",
       "  <tbody>\n",
       "    <tr>\n",
       "      <th>0</th>\n",
       "      <td>4/29/2020</td>\n",
       "      <td>NaN</td>\n",
       "      <td>Afghanistan</td>\n",
       "      <td>1939</td>\n",
       "      <td>60</td>\n",
       "      <td>252</td>\n",
       "    </tr>\n",
       "    <tr>\n",
       "      <th>1</th>\n",
       "      <td>4/29/2020</td>\n",
       "      <td>NaN</td>\n",
       "      <td>Albania</td>\n",
       "      <td>766</td>\n",
       "      <td>30</td>\n",
       "      <td>455</td>\n",
       "    </tr>\n",
       "    <tr>\n",
       "      <th>2</th>\n",
       "      <td>4/29/2020</td>\n",
       "      <td>NaN</td>\n",
       "      <td>Algeria</td>\n",
       "      <td>3848</td>\n",
       "      <td>444</td>\n",
       "      <td>1702</td>\n",
       "    </tr>\n",
       "    <tr>\n",
       "      <th>3</th>\n",
       "      <td>4/29/2020</td>\n",
       "      <td>NaN</td>\n",
       "      <td>Andorra</td>\n",
       "      <td>743</td>\n",
       "      <td>42</td>\n",
       "      <td>423</td>\n",
       "    </tr>\n",
       "    <tr>\n",
       "      <th>4</th>\n",
       "      <td>4/29/2020</td>\n",
       "      <td>NaN</td>\n",
       "      <td>Angola</td>\n",
       "      <td>27</td>\n",
       "      <td>2</td>\n",
       "      <td>7</td>\n",
       "    </tr>\n",
       "  </tbody>\n",
       "</table>\n",
       "</div>"
      ],
      "text/plain": [
       "        Date State       Region  Confirmed  Deaths  Recovered\n",
       "0  4/29/2020   NaN  Afghanistan       1939      60        252\n",
       "1  4/29/2020   NaN      Albania        766      30        455\n",
       "2  4/29/2020   NaN      Algeria       3848     444       1702\n",
       "3  4/29/2020   NaN      Andorra        743      42        423\n",
       "4  4/29/2020   NaN       Angola         27       2          7"
      ]
     },
     "execution_count": 2,
     "metadata": {},
     "output_type": "execute_result"
    }
   ],
   "source": [
    "df.head()"
   ]
  },
  {
   "cell_type": "markdown",
   "id": "4aacfb6e",
   "metadata": {},
   "source": [
    "5.: How can you select a specific column 'column_name' from a DataFrame df?"
   ]
  },
  {
   "cell_type": "markdown",
   "id": "a80fa4f8",
   "metadata": {},
   "source": [
    "Ans :- df['column_name'] "
   ]
  },
  {
   "cell_type": "code",
   "execution_count": 3,
   "id": "b357b7da",
   "metadata": {},
   "outputs": [
    {
     "data": {
      "text/plain": [
       "0         Afghanistan\n",
       "1             Albania\n",
       "2             Algeria\n",
       "3             Andorra\n",
       "4              Angola\n",
       "            ...      \n",
       "316                US\n",
       "317    Mainland China\n",
       "318            Canada\n",
       "319    Mainland China\n",
       "320    Mainland China\n",
       "Name: Region, Length: 321, dtype: object"
      ]
     },
     "execution_count": 3,
     "metadata": {},
     "output_type": "execute_result"
    }
   ],
   "source": [
    "df['Region']"
   ]
  },
  {
   "cell_type": "markdown",
   "id": "8846b685",
   "metadata": {},
   "source": [
    "6.: What does the groupby() function in Pandas do?"
   ]
  },
  {
   "cell_type": "markdown",
   "id": "bf986acc",
   "metadata": {},
   "source": [
    "Ans :- All of the above"
   ]
  },
  {
   "cell_type": "code",
   "execution_count": 7,
   "id": "805c7127",
   "metadata": {},
   "outputs": [
    {
     "name": "stdout",
     "output_type": "stream",
     "text": [
      "Region\n",
      "Afghanistan           1939\n",
      "Albania                766\n",
      "Algeria               3848\n",
      "Andorra                743\n",
      "Angola                  27\n",
      "                      ... \n",
      "West Bank and Gaza     344\n",
      "Western Sahara           6\n",
      "Yemen                    6\n",
      "Zambia                  97\n",
      "Zimbabwe                32\n",
      "Name: Confirmed, Length: 187, dtype: int64\n"
     ]
    }
   ],
   "source": [
    "gr = df.groupby('Region')['Confirmed'].sum()\n",
    "print(gr)"
   ]
  },
  {
   "cell_type": "markdown",
   "id": "2f32be38",
   "metadata": {},
   "source": [
    "7.: How can you remove rows with missing values from a DataFrame df? "
   ]
  },
  {
   "cell_type": "markdown",
   "id": "425d839b",
   "metadata": {},
   "source": [
    "Ans :- df.dropna()"
   ]
  },
  {
   "cell_type": "code",
   "execution_count": 8,
   "id": "82fad9cf",
   "metadata": {},
   "outputs": [
    {
     "data": {
      "text/html": [
       "<div>\n",
       "<style scoped>\n",
       "    .dataframe tbody tr th:only-of-type {\n",
       "        vertical-align: middle;\n",
       "    }\n",
       "\n",
       "    .dataframe tbody tr th {\n",
       "        vertical-align: top;\n",
       "    }\n",
       "\n",
       "    .dataframe thead th {\n",
       "        text-align: right;\n",
       "    }\n",
       "</style>\n",
       "<table border=\"1\" class=\"dataframe\">\n",
       "  <thead>\n",
       "    <tr style=\"text-align: right;\">\n",
       "      <th></th>\n",
       "      <th>Date</th>\n",
       "      <th>State</th>\n",
       "      <th>Region</th>\n",
       "      <th>Confirmed</th>\n",
       "      <th>Deaths</th>\n",
       "      <th>Recovered</th>\n",
       "    </tr>\n",
       "  </thead>\n",
       "  <tbody>\n",
       "    <tr>\n",
       "      <th>181</th>\n",
       "      <td>4/29/2020</td>\n",
       "      <td>Alabama</td>\n",
       "      <td>US</td>\n",
       "      <td>6912</td>\n",
       "      <td>256</td>\n",
       "      <td>0</td>\n",
       "    </tr>\n",
       "    <tr>\n",
       "      <th>182</th>\n",
       "      <td>4/29/2020</td>\n",
       "      <td>Alaska</td>\n",
       "      <td>US</td>\n",
       "      <td>355</td>\n",
       "      <td>9</td>\n",
       "      <td>0</td>\n",
       "    </tr>\n",
       "    <tr>\n",
       "      <th>183</th>\n",
       "      <td>4/29/2020</td>\n",
       "      <td>Alberta</td>\n",
       "      <td>Canada</td>\n",
       "      <td>5165</td>\n",
       "      <td>87</td>\n",
       "      <td>0</td>\n",
       "    </tr>\n",
       "    <tr>\n",
       "      <th>184</th>\n",
       "      <td>4/29/2020</td>\n",
       "      <td>Anguilla</td>\n",
       "      <td>UK</td>\n",
       "      <td>3</td>\n",
       "      <td>0</td>\n",
       "      <td>3</td>\n",
       "    </tr>\n",
       "    <tr>\n",
       "      <th>185</th>\n",
       "      <td>4/29/2020</td>\n",
       "      <td>Anhui</td>\n",
       "      <td>Mainland China</td>\n",
       "      <td>991</td>\n",
       "      <td>6</td>\n",
       "      <td>985</td>\n",
       "    </tr>\n",
       "    <tr>\n",
       "      <th>...</th>\n",
       "      <td>...</td>\n",
       "      <td>...</td>\n",
       "      <td>...</td>\n",
       "      <td>...</td>\n",
       "      <td>...</td>\n",
       "      <td>...</td>\n",
       "    </tr>\n",
       "    <tr>\n",
       "      <th>316</th>\n",
       "      <td>4/29/2020</td>\n",
       "      <td>Wyoming</td>\n",
       "      <td>US</td>\n",
       "      <td>545</td>\n",
       "      <td>7</td>\n",
       "      <td>0</td>\n",
       "    </tr>\n",
       "    <tr>\n",
       "      <th>317</th>\n",
       "      <td>4/29/2020</td>\n",
       "      <td>Xinjiang</td>\n",
       "      <td>Mainland China</td>\n",
       "      <td>76</td>\n",
       "      <td>3</td>\n",
       "      <td>73</td>\n",
       "    </tr>\n",
       "    <tr>\n",
       "      <th>318</th>\n",
       "      <td>4/29/2020</td>\n",
       "      <td>Yukon</td>\n",
       "      <td>Canada</td>\n",
       "      <td>11</td>\n",
       "      <td>0</td>\n",
       "      <td>0</td>\n",
       "    </tr>\n",
       "    <tr>\n",
       "      <th>319</th>\n",
       "      <td>4/29/2020</td>\n",
       "      <td>Yunnan</td>\n",
       "      <td>Mainland China</td>\n",
       "      <td>185</td>\n",
       "      <td>2</td>\n",
       "      <td>181</td>\n",
       "    </tr>\n",
       "    <tr>\n",
       "      <th>320</th>\n",
       "      <td>4/29/2020</td>\n",
       "      <td>Zhejiang</td>\n",
       "      <td>Mainland China</td>\n",
       "      <td>1268</td>\n",
       "      <td>1</td>\n",
       "      <td>1263</td>\n",
       "    </tr>\n",
       "  </tbody>\n",
       "</table>\n",
       "<p>140 rows × 6 columns</p>\n",
       "</div>"
      ],
      "text/plain": [
       "          Date     State          Region  Confirmed  Deaths  Recovered\n",
       "181  4/29/2020   Alabama              US       6912     256          0\n",
       "182  4/29/2020    Alaska              US        355       9          0\n",
       "183  4/29/2020   Alberta          Canada       5165      87          0\n",
       "184  4/29/2020  Anguilla              UK          3       0          3\n",
       "185  4/29/2020     Anhui  Mainland China        991       6        985\n",
       "..         ...       ...             ...        ...     ...        ...\n",
       "316  4/29/2020   Wyoming              US        545       7          0\n",
       "317  4/29/2020  Xinjiang  Mainland China         76       3         73\n",
       "318  4/29/2020     Yukon          Canada         11       0          0\n",
       "319  4/29/2020    Yunnan  Mainland China        185       2        181\n",
       "320  4/29/2020  Zhejiang  Mainland China       1268       1       1263\n",
       "\n",
       "[140 rows x 6 columns]"
      ]
     },
     "execution_count": 8,
     "metadata": {},
     "output_type": "execute_result"
    }
   ],
   "source": [
    "df.dropna()"
   ]
  },
  {
   "cell_type": "markdown",
   "id": "8c7af911",
   "metadata": {},
   "source": [
    "8.: What does the merge() function in Pandas do?"
   ]
  },
  {
   "cell_type": "markdown",
   "id": "344aca65",
   "metadata": {},
   "source": [
    "Ans :- Merges DataFrames based on a common column."
   ]
  },
  {
   "cell_type": "markdown",
   "id": "7776dd40",
   "metadata": {},
   "source": [
    "9.: How can you rename the column 'old_name' to 'new_name' in a DataFrame df?"
   ]
  },
  {
   "cell_type": "markdown",
   "id": "bdd9f630",
   "metadata": {},
   "source": [
    "Ans :- df.rename(columns={'old_name': 'new_name'})"
   ]
  },
  {
   "cell_type": "code",
   "execution_count": 13,
   "id": "1d3f5b00",
   "metadata": {},
   "outputs": [
    {
     "data": {
      "text/html": [
       "<div>\n",
       "<style scoped>\n",
       "    .dataframe tbody tr th:only-of-type {\n",
       "        vertical-align: middle;\n",
       "    }\n",
       "\n",
       "    .dataframe tbody tr th {\n",
       "        vertical-align: top;\n",
       "    }\n",
       "\n",
       "    .dataframe thead th {\n",
       "        text-align: right;\n",
       "    }\n",
       "</style>\n",
       "<table border=\"1\" class=\"dataframe\">\n",
       "  <thead>\n",
       "    <tr style=\"text-align: right;\">\n",
       "      <th></th>\n",
       "      <th>Date</th>\n",
       "      <th>State</th>\n",
       "      <th>Country</th>\n",
       "      <th>Confirmed</th>\n",
       "      <th>Deaths</th>\n",
       "      <th>Recovered</th>\n",
       "    </tr>\n",
       "  </thead>\n",
       "  <tbody>\n",
       "    <tr>\n",
       "      <th>0</th>\n",
       "      <td>4/29/2020</td>\n",
       "      <td>NaN</td>\n",
       "      <td>Afghanistan</td>\n",
       "      <td>1939</td>\n",
       "      <td>60</td>\n",
       "      <td>252</td>\n",
       "    </tr>\n",
       "    <tr>\n",
       "      <th>1</th>\n",
       "      <td>4/29/2020</td>\n",
       "      <td>NaN</td>\n",
       "      <td>Albania</td>\n",
       "      <td>766</td>\n",
       "      <td>30</td>\n",
       "      <td>455</td>\n",
       "    </tr>\n",
       "    <tr>\n",
       "      <th>2</th>\n",
       "      <td>4/29/2020</td>\n",
       "      <td>NaN</td>\n",
       "      <td>Algeria</td>\n",
       "      <td>3848</td>\n",
       "      <td>444</td>\n",
       "      <td>1702</td>\n",
       "    </tr>\n",
       "    <tr>\n",
       "      <th>3</th>\n",
       "      <td>4/29/2020</td>\n",
       "      <td>NaN</td>\n",
       "      <td>Andorra</td>\n",
       "      <td>743</td>\n",
       "      <td>42</td>\n",
       "      <td>423</td>\n",
       "    </tr>\n",
       "    <tr>\n",
       "      <th>4</th>\n",
       "      <td>4/29/2020</td>\n",
       "      <td>NaN</td>\n",
       "      <td>Angola</td>\n",
       "      <td>27</td>\n",
       "      <td>2</td>\n",
       "      <td>7</td>\n",
       "    </tr>\n",
       "  </tbody>\n",
       "</table>\n",
       "</div>"
      ],
      "text/plain": [
       "        Date State      Country  Confirmed  Deaths  Recovered\n",
       "0  4/29/2020   NaN  Afghanistan       1939      60        252\n",
       "1  4/29/2020   NaN      Albania        766      30        455\n",
       "2  4/29/2020   NaN      Algeria       3848     444       1702\n",
       "3  4/29/2020   NaN      Andorra        743      42        423\n",
       "4  4/29/2020   NaN       Angola         27       2          7"
      ]
     },
     "execution_count": 13,
     "metadata": {},
     "output_type": "execute_result"
    }
   ],
   "source": [
    "rename = df.rename(columns={'Region':'Country'})\n",
    "rename.head()"
   ]
  },
  {
   "cell_type": "markdown",
   "id": "3f9fc7de",
   "metadata": {},
   "source": [
    "10.: What is the purpose of the pivot_table() function in Pandas?"
   ]
  },
  {
   "cell_type": "markdown",
   "id": "84bc0163",
   "metadata": {},
   "source": [
    "Ans :- Creates a pivot table with aggregated data."
   ]
  },
  {
   "cell_type": "markdown",
   "id": "2b8d1edd",
   "metadata": {},
   "source": [
    "11.: How can you sort a DataFrame df based on values in the column 'column_name' in ascending order? "
   ]
  },
  {
   "cell_type": "markdown",
   "id": "a78b4d03",
   "metadata": {},
   "source": [
    "Ans :- df.sort_values('column_name', ascending=True) "
   ]
  },
  {
   "cell_type": "code",
   "execution_count": 15,
   "id": "44d07c7d",
   "metadata": {},
   "outputs": [
    {
     "data": {
      "text/html": [
       "<div>\n",
       "<style scoped>\n",
       "    .dataframe tbody tr th:only-of-type {\n",
       "        vertical-align: middle;\n",
       "    }\n",
       "\n",
       "    .dataframe tbody tr th {\n",
       "        vertical-align: top;\n",
       "    }\n",
       "\n",
       "    .dataframe thead th {\n",
       "        text-align: right;\n",
       "    }\n",
       "</style>\n",
       "<table border=\"1\" class=\"dataframe\">\n",
       "  <thead>\n",
       "    <tr style=\"text-align: right;\">\n",
       "      <th></th>\n",
       "      <th>Date</th>\n",
       "      <th>State</th>\n",
       "      <th>Region</th>\n",
       "      <th>Confirmed</th>\n",
       "      <th>Deaths</th>\n",
       "      <th>Recovered</th>\n",
       "    </tr>\n",
       "  </thead>\n",
       "  <tbody>\n",
       "    <tr>\n",
       "      <th>126</th>\n",
       "      <td>4/29/2020</td>\n",
       "      <td>NaN</td>\n",
       "      <td>Papua New Guinea</td>\n",
       "      <td>8</td>\n",
       "      <td>0</td>\n",
       "      <td>0</td>\n",
       "    </tr>\n",
       "    <tr>\n",
       "      <th>279</th>\n",
       "      <td>4/29/2020</td>\n",
       "      <td>Prince Edward Island</td>\n",
       "      <td>Canada</td>\n",
       "      <td>27</td>\n",
       "      <td>0</td>\n",
       "      <td>0</td>\n",
       "    </tr>\n",
       "    <tr>\n",
       "      <th>135</th>\n",
       "      <td>4/29/2020</td>\n",
       "      <td>NaN</td>\n",
       "      <td>Rwanda</td>\n",
       "      <td>225</td>\n",
       "      <td>0</td>\n",
       "      <td>98</td>\n",
       "    </tr>\n",
       "    <tr>\n",
       "      <th>272</th>\n",
       "      <td>4/29/2020</td>\n",
       "      <td>Northwest Territories</td>\n",
       "      <td>Canada</td>\n",
       "      <td>5</td>\n",
       "      <td>0</td>\n",
       "      <td>0</td>\n",
       "    </tr>\n",
       "    <tr>\n",
       "      <th>271</th>\n",
       "      <td>4/29/2020</td>\n",
       "      <td>Northern Territory</td>\n",
       "      <td>Australia</td>\n",
       "      <td>28</td>\n",
       "      <td>0</td>\n",
       "      <td>25</td>\n",
       "    </tr>\n",
       "  </tbody>\n",
       "</table>\n",
       "</div>"
      ],
      "text/plain": [
       "          Date                  State            Region  Confirmed  Deaths  \\\n",
       "126  4/29/2020                    NaN  Papua New Guinea          8       0   \n",
       "279  4/29/2020   Prince Edward Island            Canada         27       0   \n",
       "135  4/29/2020                    NaN            Rwanda        225       0   \n",
       "272  4/29/2020  Northwest Territories            Canada          5       0   \n",
       "271  4/29/2020     Northern Territory         Australia         28       0   \n",
       "\n",
       "     Recovered  \n",
       "126          0  \n",
       "279          0  \n",
       "135         98  \n",
       "272          0  \n",
       "271         25  "
      ]
     },
     "execution_count": 15,
     "metadata": {},
     "output_type": "execute_result"
    }
   ],
   "source": [
    "df.sort_values('Deaths',ascending=True).head()"
   ]
  },
  {
   "cell_type": "markdown",
   "id": "da49d910",
   "metadata": {},
   "source": [
    "12.: What does the map() function do in Pandas?"
   ]
  },
  {
   "cell_type": "markdown",
   "id": "07568fec",
   "metadata": {},
   "source": [
    "Ans :- Applies a function element-wise to a Series. "
   ]
  },
  {
   "cell_type": "markdown",
   "id": "86b7329b",
   "metadata": {},
   "source": [
    "13.: How can you convert a DataFrame df to a CSV file named 'output.csv'? "
   ]
  },
  {
   "cell_type": "markdown",
   "id": "3ac4e9c6",
   "metadata": {},
   "source": [
    "Ans :- df.to_csv('output.csv')"
   ]
  },
  {
   "cell_type": "code",
   "execution_count": 17,
   "id": "48c8d405",
   "metadata": {},
   "outputs": [],
   "source": [
    "df.to_csv(\"C:\\\\Users\\\\Pranit Ganar\\\\Desktop\\\\pr\\\\deaths_ascending.csv\")"
   ]
  },
  {
   "cell_type": "markdown",
   "id": "1101ab3d",
   "metadata": {},
   "source": [
    "14.: What does the iloc[] attribute in Pandas do?"
   ]
  },
  {
   "cell_type": "markdown",
   "id": "c745204e",
   "metadata": {},
   "source": [
    "Ans :- Retrieves data based on row and column indices."
   ]
  },
  {
   "cell_type": "code",
   "execution_count": 22,
   "id": "b3da62b9",
   "metadata": {},
   "outputs": [
    {
     "data": {
      "text/plain": [
       "5    Antigua and Barbuda\n",
       "6              Argentina\n",
       "7                Armenia\n",
       "8                Austria\n",
       "9             Azerbaijan\n",
       "Name: Region, dtype: object"
      ]
     },
     "execution_count": 22,
     "metadata": {},
     "output_type": "execute_result"
    }
   ],
   "source": [
    "df.iloc[5:10,2]"
   ]
  },
  {
   "cell_type": "markdown",
   "id": "5aaca230",
   "metadata": {},
   "source": [
    "15.: How can you calculate the correlation matrix for a DataFrame df? "
   ]
  },
  {
   "cell_type": "markdown",
   "id": "92655a04",
   "metadata": {},
   "source": [
    "Ans :-  df.corr()"
   ]
  },
  {
   "cell_type": "code",
   "execution_count": 23,
   "id": "d5b87269",
   "metadata": {},
   "outputs": [
    {
     "data": {
      "text/html": [
       "<div>\n",
       "<style scoped>\n",
       "    .dataframe tbody tr th:only-of-type {\n",
       "        vertical-align: middle;\n",
       "    }\n",
       "\n",
       "    .dataframe tbody tr th {\n",
       "        vertical-align: top;\n",
       "    }\n",
       "\n",
       "    .dataframe thead th {\n",
       "        text-align: right;\n",
       "    }\n",
       "</style>\n",
       "<table border=\"1\" class=\"dataframe\">\n",
       "  <thead>\n",
       "    <tr style=\"text-align: right;\">\n",
       "      <th></th>\n",
       "      <th>Confirmed</th>\n",
       "      <th>Deaths</th>\n",
       "      <th>Recovered</th>\n",
       "    </tr>\n",
       "  </thead>\n",
       "  <tbody>\n",
       "    <tr>\n",
       "      <th>Confirmed</th>\n",
       "      <td>1.000000</td>\n",
       "      <td>0.907294</td>\n",
       "      <td>0.596008</td>\n",
       "    </tr>\n",
       "    <tr>\n",
       "      <th>Deaths</th>\n",
       "      <td>0.907294</td>\n",
       "      <td>1.000000</td>\n",
       "      <td>0.519295</td>\n",
       "    </tr>\n",
       "    <tr>\n",
       "      <th>Recovered</th>\n",
       "      <td>0.596008</td>\n",
       "      <td>0.519295</td>\n",
       "      <td>1.000000</td>\n",
       "    </tr>\n",
       "  </tbody>\n",
       "</table>\n",
       "</div>"
      ],
      "text/plain": [
       "           Confirmed    Deaths  Recovered\n",
       "Confirmed   1.000000  0.907294   0.596008\n",
       "Deaths      0.907294  1.000000   0.519295\n",
       "Recovered   0.596008  0.519295   1.000000"
      ]
     },
     "execution_count": 23,
     "metadata": {},
     "output_type": "execute_result"
    }
   ],
   "source": [
    "df.corr()"
   ]
  },
  {
   "cell_type": "markdown",
   "id": "d8372d5e",
   "metadata": {},
   "source": [
    "16.: What does the apply() function in Pandas do? "
   ]
  },
  {
   "cell_type": "markdown",
   "id": "3121e34f",
   "metadata": {},
   "source": [
    "Ans :- All of the above."
   ]
  },
  {
   "cell_type": "markdown",
   "id": "a37ca524",
   "metadata": {},
   "source": [
    "17.: How can you create a new column 'new_column' in a DataFrame df that contains the sum of two existing columns 'col1' and 'col2'? "
   ]
  },
  {
   "cell_type": "markdown",
   "id": "cccd5de2",
   "metadata": {},
   "source": [
    "Ans :- df['new_column'] = df['col1'] + df['col2']"
   ]
  },
  {
   "cell_type": "code",
   "execution_count": 24,
   "id": "24e52ee2",
   "metadata": {},
   "outputs": [
    {
     "data": {
      "text/html": [
       "<div>\n",
       "<style scoped>\n",
       "    .dataframe tbody tr th:only-of-type {\n",
       "        vertical-align: middle;\n",
       "    }\n",
       "\n",
       "    .dataframe tbody tr th {\n",
       "        vertical-align: top;\n",
       "    }\n",
       "\n",
       "    .dataframe thead th {\n",
       "        text-align: right;\n",
       "    }\n",
       "</style>\n",
       "<table border=\"1\" class=\"dataframe\">\n",
       "  <thead>\n",
       "    <tr style=\"text-align: right;\">\n",
       "      <th></th>\n",
       "      <th>Date</th>\n",
       "      <th>State</th>\n",
       "      <th>Region</th>\n",
       "      <th>Confirmed</th>\n",
       "      <th>Deaths</th>\n",
       "      <th>Recovered</th>\n",
       "      <th>add_recover_death</th>\n",
       "    </tr>\n",
       "  </thead>\n",
       "  <tbody>\n",
       "    <tr>\n",
       "      <th>0</th>\n",
       "      <td>4/29/2020</td>\n",
       "      <td>NaN</td>\n",
       "      <td>Afghanistan</td>\n",
       "      <td>1939</td>\n",
       "      <td>60</td>\n",
       "      <td>252</td>\n",
       "      <td>312</td>\n",
       "    </tr>\n",
       "    <tr>\n",
       "      <th>1</th>\n",
       "      <td>4/29/2020</td>\n",
       "      <td>NaN</td>\n",
       "      <td>Albania</td>\n",
       "      <td>766</td>\n",
       "      <td>30</td>\n",
       "      <td>455</td>\n",
       "      <td>485</td>\n",
       "    </tr>\n",
       "    <tr>\n",
       "      <th>2</th>\n",
       "      <td>4/29/2020</td>\n",
       "      <td>NaN</td>\n",
       "      <td>Algeria</td>\n",
       "      <td>3848</td>\n",
       "      <td>444</td>\n",
       "      <td>1702</td>\n",
       "      <td>2146</td>\n",
       "    </tr>\n",
       "    <tr>\n",
       "      <th>3</th>\n",
       "      <td>4/29/2020</td>\n",
       "      <td>NaN</td>\n",
       "      <td>Andorra</td>\n",
       "      <td>743</td>\n",
       "      <td>42</td>\n",
       "      <td>423</td>\n",
       "      <td>465</td>\n",
       "    </tr>\n",
       "    <tr>\n",
       "      <th>4</th>\n",
       "      <td>4/29/2020</td>\n",
       "      <td>NaN</td>\n",
       "      <td>Angola</td>\n",
       "      <td>27</td>\n",
       "      <td>2</td>\n",
       "      <td>7</td>\n",
       "      <td>9</td>\n",
       "    </tr>\n",
       "  </tbody>\n",
       "</table>\n",
       "</div>"
      ],
      "text/plain": [
       "        Date State       Region  Confirmed  Deaths  Recovered  \\\n",
       "0  4/29/2020   NaN  Afghanistan       1939      60        252   \n",
       "1  4/29/2020   NaN      Albania        766      30        455   \n",
       "2  4/29/2020   NaN      Algeria       3848     444       1702   \n",
       "3  4/29/2020   NaN      Andorra        743      42        423   \n",
       "4  4/29/2020   NaN       Angola         27       2          7   \n",
       "\n",
       "   add_recover_death  \n",
       "0                312  \n",
       "1                485  \n",
       "2               2146  \n",
       "3                465  \n",
       "4                  9  "
      ]
     },
     "execution_count": 24,
     "metadata": {},
     "output_type": "execute_result"
    }
   ],
   "source": [
    "df['add_recover_death'] = df['Deaths'] + df['Recovered']\n",
    "df.head()"
   ]
  },
  {
   "cell_type": "markdown",
   "id": "c7082a94",
   "metadata": {},
   "source": [
    "18.: What does the describe() function in Pandas do?"
   ]
  },
  {
   "cell_type": "markdown",
   "id": "485dd861",
   "metadata": {},
   "source": [
    "Ans :- Returns summary statistics of a DataFrame."
   ]
  },
  {
   "cell_type": "code",
   "execution_count": 25,
   "id": "b19fae7a",
   "metadata": {},
   "outputs": [
    {
     "data": {
      "text/html": [
       "<div>\n",
       "<style scoped>\n",
       "    .dataframe tbody tr th:only-of-type {\n",
       "        vertical-align: middle;\n",
       "    }\n",
       "\n",
       "    .dataframe tbody tr th {\n",
       "        vertical-align: top;\n",
       "    }\n",
       "\n",
       "    .dataframe thead th {\n",
       "        text-align: right;\n",
       "    }\n",
       "</style>\n",
       "<table border=\"1\" class=\"dataframe\">\n",
       "  <thead>\n",
       "    <tr style=\"text-align: right;\">\n",
       "      <th></th>\n",
       "      <th>Confirmed</th>\n",
       "      <th>Deaths</th>\n",
       "      <th>Recovered</th>\n",
       "      <th>add_recover_death</th>\n",
       "    </tr>\n",
       "  </thead>\n",
       "  <tbody>\n",
       "    <tr>\n",
       "      <th>count</th>\n",
       "      <td>321.000000</td>\n",
       "      <td>321.000000</td>\n",
       "      <td>321.000000</td>\n",
       "      <td>321.000000</td>\n",
       "    </tr>\n",
       "    <tr>\n",
       "      <th>mean</th>\n",
       "      <td>9949.800623</td>\n",
       "      <td>709.152648</td>\n",
       "      <td>3030.277259</td>\n",
       "      <td>3739.429907</td>\n",
       "    </tr>\n",
       "    <tr>\n",
       "      <th>std</th>\n",
       "      <td>31923.853086</td>\n",
       "      <td>3236.162817</td>\n",
       "      <td>14364.870365</td>\n",
       "      <td>16281.990961</td>\n",
       "    </tr>\n",
       "    <tr>\n",
       "      <th>min</th>\n",
       "      <td>0.000000</td>\n",
       "      <td>0.000000</td>\n",
       "      <td>0.000000</td>\n",
       "      <td>0.000000</td>\n",
       "    </tr>\n",
       "    <tr>\n",
       "      <th>25%</th>\n",
       "      <td>104.000000</td>\n",
       "      <td>2.000000</td>\n",
       "      <td>2.000000</td>\n",
       "      <td>27.000000</td>\n",
       "    </tr>\n",
       "    <tr>\n",
       "      <th>50%</th>\n",
       "      <td>653.000000</td>\n",
       "      <td>12.000000</td>\n",
       "      <td>73.000000</td>\n",
       "      <td>204.000000</td>\n",
       "    </tr>\n",
       "    <tr>\n",
       "      <th>75%</th>\n",
       "      <td>4655.000000</td>\n",
       "      <td>144.000000</td>\n",
       "      <td>587.000000</td>\n",
       "      <td>995.000000</td>\n",
       "    </tr>\n",
       "    <tr>\n",
       "      <th>max</th>\n",
       "      <td>299691.000000</td>\n",
       "      <td>27682.000000</td>\n",
       "      <td>132929.000000</td>\n",
       "      <td>157204.000000</td>\n",
       "    </tr>\n",
       "  </tbody>\n",
       "</table>\n",
       "</div>"
      ],
      "text/plain": [
       "           Confirmed        Deaths      Recovered  add_recover_death\n",
       "count     321.000000    321.000000     321.000000         321.000000\n",
       "mean     9949.800623    709.152648    3030.277259        3739.429907\n",
       "std     31923.853086   3236.162817   14364.870365       16281.990961\n",
       "min         0.000000      0.000000       0.000000           0.000000\n",
       "25%       104.000000      2.000000       2.000000          27.000000\n",
       "50%       653.000000     12.000000      73.000000         204.000000\n",
       "75%      4655.000000    144.000000     587.000000         995.000000\n",
       "max    299691.000000  27682.000000  132929.000000      157204.000000"
      ]
     },
     "execution_count": 25,
     "metadata": {},
     "output_type": "execute_result"
    }
   ],
   "source": [
    "df.describe()"
   ]
  },
  {
   "cell_type": "markdown",
   "id": "976182fe",
   "metadata": {},
   "source": [
    "19.: How can you calculate the cumulative sum of a DataFrame df along the columns?"
   ]
  },
  {
   "cell_type": "markdown",
   "id": "7fd36041",
   "metadata": {},
   "source": [
    "Ans :- df.cumsum(axis=1)"
   ]
  },
  {
   "cell_type": "markdown",
   "id": "1ca0d753",
   "metadata": {},
   "source": [
    "20.: What does the duplicated() function in Pandas do?"
   ]
  },
  {
   "cell_type": "markdown",
   "id": "7c6dc8f3",
   "metadata": {},
   "source": [
    "Ans :- Identifies duplicate rows in a DataFrame. "
   ]
  },
  {
   "cell_type": "code",
   "execution_count": 29,
   "id": "d07f9850",
   "metadata": {},
   "outputs": [
    {
     "data": {
      "text/plain": [
       "0"
      ]
     },
     "execution_count": 29,
     "metadata": {},
     "output_type": "execute_result"
    }
   ],
   "source": [
    "df.duplicated().sum()"
   ]
  },
  {
   "cell_type": "markdown",
   "id": "78ca432c",
   "metadata": {},
   "source": [
    "21.: How can you extract the unique values from a specific column 'column_name' in a DataFrame df?"
   ]
  },
  {
   "cell_type": "markdown",
   "id": "5a06f534",
   "metadata": {},
   "source": [
    "Ans :- df['column_name'].unique()"
   ]
  },
  {
   "cell_type": "code",
   "execution_count": 32,
   "id": "78af667b",
   "metadata": {},
   "outputs": [
    {
     "data": {
      "text/plain": [
       "array([nan, 'Alabama', 'Alaska', 'Alberta', 'Anguilla', 'Anhui',\n",
       "       'Arizona', 'Arkansas', 'Aruba', 'Australian Capital Territory',\n",
       "       'Beijing', 'Bermuda', 'Bonaire, Sint Eustatius and Saba',\n",
       "       'British Columbia', 'British Virgin Islands', 'California',\n",
       "       'Cayman Islands', 'Channel Islands', 'Chongqing', 'Colorado',\n",
       "       'Connecticut', 'Curacao', 'Delaware',\n",
       "       'Diamond Princess cruise ship', 'District of Columbia',\n",
       "       'Falkland Islands (Malvinas)', 'Faroe Islands', 'Florida',\n",
       "       'French Guiana', 'French Polynesia', 'Fujian', 'Gansu', 'Georgia',\n",
       "       'Gibraltar', 'Grand Princess', 'Greenland', 'Guadeloupe', 'Guam',\n",
       "       'Guangdong', 'Guangxi', 'Guizhou', 'Hainan', 'Hawaii', 'Hebei',\n",
       "       'Heilongjiang', 'Henan', 'Hong Kong', 'Hubei', 'Hunan', 'Idaho',\n",
       "       'Illinois', 'Indiana', 'Inner Mongolia', 'Iowa', 'Isle of Man',\n",
       "       'Jiangsu', 'Jiangxi', 'Jilin', 'Kansas', 'Kentucky', 'Liaoning',\n",
       "       'Louisiana', 'Macau', 'Maine', 'Manitoba', 'Martinique',\n",
       "       'Maryland', 'Massachusetts', 'Mayotte', 'Michigan', 'Minnesota',\n",
       "       'Mississippi', 'Missouri', 'Montana', 'Montserrat', 'Nebraska',\n",
       "       'Nevada', 'New Brunswick', 'New Caledonia', 'New Hampshire',\n",
       "       'New Jersey', 'New Mexico', 'New South Wales', 'New York',\n",
       "       'Newfoundland and Labrador', 'Ningxia', 'North Carolina',\n",
       "       'North Dakota', 'Northern Mariana Islands', 'Northern Territory',\n",
       "       'Northwest Territories', 'Nova Scotia', 'Ohio', 'Oklahoma',\n",
       "       'Ontario', 'Oregon', 'Pennsylvania', 'Prince Edward Island',\n",
       "       'Puerto Rico', 'Qinghai', 'Quebec', 'Queensland', 'Recovered',\n",
       "       'Reunion', 'Rhode Island', 'Saint Barthelemy',\n",
       "       'Saint Pierre and Miquelon', 'Saskatchewan', 'Shaanxi', 'Shandong',\n",
       "       'Shanghai', 'Shanxi', 'Sichuan', 'Sint Maarten', 'South Australia',\n",
       "       'South Carolina', 'South Dakota', 'St Martin', 'Tasmania',\n",
       "       'Tennessee', 'Texas', 'Tianjin', 'Tibet',\n",
       "       'Turks and Caicos Islands', 'Utah', 'Vermont', 'Victoria',\n",
       "       'Virgin Islands', 'Virginia', 'Washington', 'West Virginia',\n",
       "       'Western Australia', 'Wisconsin', 'Wyoming', 'Xinjiang', 'Yukon',\n",
       "       'Yunnan', 'Zhejiang'], dtype=object)"
      ]
     },
     "execution_count": 32,
     "metadata": {},
     "output_type": "execute_result"
    }
   ],
   "source": [
    "df['State'].unique()"
   ]
  },
  {
   "cell_type": "markdown",
   "id": "27860f0f",
   "metadata": {},
   "source": [
    "22.: What does the resample() function in Pandas do?"
   ]
  },
  {
   "cell_type": "markdown",
   "id": "e9d748e2",
   "metadata": {},
   "source": [
    "Ans :- Aggregates data over a specific time period"
   ]
  },
  {
   "cell_type": "markdown",
   "id": "bbbc5d84",
   "metadata": {},
   "source": [
    "23.: How can you create a new column 'new_column' in a DataFrame df that contains the row-wise mean of all columns? "
   ]
  },
  {
   "cell_type": "markdown",
   "id": "9f832217",
   "metadata": {},
   "source": [
    "Ans :-  df['new_column'] = df.mean(axis=1)"
   ]
  },
  {
   "cell_type": "code",
   "execution_count": 34,
   "id": "3dff0e97",
   "metadata": {},
   "outputs": [
    {
     "name": "stderr",
     "output_type": "stream",
     "text": [
      "C:\\Users\\Pranit Ganar\\AppData\\Local\\Temp\\ipykernel_7136\\662288383.py:1: FutureWarning: Dropping of nuisance columns in DataFrame reductions (with 'numeric_only=None') is deprecated; in a future version this will raise TypeError.  Select only valid columns before calling the reduction.\n",
      "  df[\"mean_row_wise\"]=df.mean(axis=1)\n"
     ]
    },
    {
     "data": {
      "text/html": [
       "<div>\n",
       "<style scoped>\n",
       "    .dataframe tbody tr th:only-of-type {\n",
       "        vertical-align: middle;\n",
       "    }\n",
       "\n",
       "    .dataframe tbody tr th {\n",
       "        vertical-align: top;\n",
       "    }\n",
       "\n",
       "    .dataframe thead th {\n",
       "        text-align: right;\n",
       "    }\n",
       "</style>\n",
       "<table border=\"1\" class=\"dataframe\">\n",
       "  <thead>\n",
       "    <tr style=\"text-align: right;\">\n",
       "      <th></th>\n",
       "      <th>Date</th>\n",
       "      <th>State</th>\n",
       "      <th>Region</th>\n",
       "      <th>Confirmed</th>\n",
       "      <th>Deaths</th>\n",
       "      <th>Recovered</th>\n",
       "      <th>add_recover_death</th>\n",
       "      <th>mean_row_wise</th>\n",
       "    </tr>\n",
       "  </thead>\n",
       "  <tbody>\n",
       "    <tr>\n",
       "      <th>0</th>\n",
       "      <td>4/29/2020</td>\n",
       "      <td>NaN</td>\n",
       "      <td>Afghanistan</td>\n",
       "      <td>1939</td>\n",
       "      <td>60</td>\n",
       "      <td>252</td>\n",
       "      <td>312</td>\n",
       "      <td>640.75</td>\n",
       "    </tr>\n",
       "    <tr>\n",
       "      <th>1</th>\n",
       "      <td>4/29/2020</td>\n",
       "      <td>NaN</td>\n",
       "      <td>Albania</td>\n",
       "      <td>766</td>\n",
       "      <td>30</td>\n",
       "      <td>455</td>\n",
       "      <td>485</td>\n",
       "      <td>434.00</td>\n",
       "    </tr>\n",
       "    <tr>\n",
       "      <th>2</th>\n",
       "      <td>4/29/2020</td>\n",
       "      <td>NaN</td>\n",
       "      <td>Algeria</td>\n",
       "      <td>3848</td>\n",
       "      <td>444</td>\n",
       "      <td>1702</td>\n",
       "      <td>2146</td>\n",
       "      <td>2035.00</td>\n",
       "    </tr>\n",
       "    <tr>\n",
       "      <th>3</th>\n",
       "      <td>4/29/2020</td>\n",
       "      <td>NaN</td>\n",
       "      <td>Andorra</td>\n",
       "      <td>743</td>\n",
       "      <td>42</td>\n",
       "      <td>423</td>\n",
       "      <td>465</td>\n",
       "      <td>418.25</td>\n",
       "    </tr>\n",
       "    <tr>\n",
       "      <th>4</th>\n",
       "      <td>4/29/2020</td>\n",
       "      <td>NaN</td>\n",
       "      <td>Angola</td>\n",
       "      <td>27</td>\n",
       "      <td>2</td>\n",
       "      <td>7</td>\n",
       "      <td>9</td>\n",
       "      <td>11.25</td>\n",
       "    </tr>\n",
       "  </tbody>\n",
       "</table>\n",
       "</div>"
      ],
      "text/plain": [
       "        Date State       Region  Confirmed  Deaths  Recovered  \\\n",
       "0  4/29/2020   NaN  Afghanistan       1939      60        252   \n",
       "1  4/29/2020   NaN      Albania        766      30        455   \n",
       "2  4/29/2020   NaN      Algeria       3848     444       1702   \n",
       "3  4/29/2020   NaN      Andorra        743      42        423   \n",
       "4  4/29/2020   NaN       Angola         27       2          7   \n",
       "\n",
       "   add_recover_death  mean_row_wise  \n",
       "0                312         640.75  \n",
       "1                485         434.00  \n",
       "2               2146        2035.00  \n",
       "3                465         418.25  \n",
       "4                  9          11.25  "
      ]
     },
     "execution_count": 34,
     "metadata": {},
     "output_type": "execute_result"
    }
   ],
   "source": [
    "df[\"mean_row_wise\"]=df.mean(axis=1)\n",
    "df.head()"
   ]
  },
  {
   "cell_type": "markdown",
   "id": "260b01db",
   "metadata": {},
   "source": [
    "24.: What does the transform() function in Pandas do? "
   ]
  },
  {
   "cell_type": "markdown",
   "id": "8157fb47",
   "metadata": {},
   "source": [
    "Ans :- Applies a function element-wise to a DataFrame."
   ]
  },
  {
   "cell_type": "markdown",
   "id": "95d72c26",
   "metadata": {},
   "source": [
    "25.: How can you calculate the z-scores of a specific column 'column_name' in a DataFrame df?"
   ]
  },
  {
   "cell_type": "markdown",
   "id": "bc589339",
   "metadata": {},
   "source": [
    "Ans :- All of the above  z= x−μ/σ x is the value of the data point.μ is the mean of the dataset.σ is the standard deviation of the dataset\n"
   ]
  },
  {
   "cell_type": "code",
   "execution_count": null,
   "id": "a4763ef3",
   "metadata": {},
   "outputs": [],
   "source": [
    "df.zs"
   ]
  },
  {
   "cell_type": "markdown",
   "id": "ff611911",
   "metadata": {},
   "source": [
    "26.: What does the drop_duplicates() function in Pandas do? "
   ]
  },
  {
   "cell_type": "markdown",
   "id": "f4ac5bdd",
   "metadata": {},
   "source": [
    "Ans :- Drops duplicate rows from a DataFrame."
   ]
  },
  {
   "cell_type": "code",
   "execution_count": 37,
   "id": "2de06c0e",
   "metadata": {},
   "outputs": [
    {
     "data": {
      "text/html": [
       "<div>\n",
       "<style scoped>\n",
       "    .dataframe tbody tr th:only-of-type {\n",
       "        vertical-align: middle;\n",
       "    }\n",
       "\n",
       "    .dataframe tbody tr th {\n",
       "        vertical-align: top;\n",
       "    }\n",
       "\n",
       "    .dataframe thead th {\n",
       "        text-align: right;\n",
       "    }\n",
       "</style>\n",
       "<table border=\"1\" class=\"dataframe\">\n",
       "  <thead>\n",
       "    <tr style=\"text-align: right;\">\n",
       "      <th></th>\n",
       "      <th>Date</th>\n",
       "      <th>State</th>\n",
       "      <th>Region</th>\n",
       "      <th>Confirmed</th>\n",
       "      <th>Deaths</th>\n",
       "      <th>Recovered</th>\n",
       "      <th>add_recover_death</th>\n",
       "      <th>mean_row_wise</th>\n",
       "    </tr>\n",
       "  </thead>\n",
       "  <tbody>\n",
       "    <tr>\n",
       "      <th>0</th>\n",
       "      <td>4/29/2020</td>\n",
       "      <td>NaN</td>\n",
       "      <td>Afghanistan</td>\n",
       "      <td>1939</td>\n",
       "      <td>60</td>\n",
       "      <td>252</td>\n",
       "      <td>312</td>\n",
       "      <td>640.75</td>\n",
       "    </tr>\n",
       "    <tr>\n",
       "      <th>1</th>\n",
       "      <td>4/29/2020</td>\n",
       "      <td>NaN</td>\n",
       "      <td>Albania</td>\n",
       "      <td>766</td>\n",
       "      <td>30</td>\n",
       "      <td>455</td>\n",
       "      <td>485</td>\n",
       "      <td>434.00</td>\n",
       "    </tr>\n",
       "    <tr>\n",
       "      <th>2</th>\n",
       "      <td>4/29/2020</td>\n",
       "      <td>NaN</td>\n",
       "      <td>Algeria</td>\n",
       "      <td>3848</td>\n",
       "      <td>444</td>\n",
       "      <td>1702</td>\n",
       "      <td>2146</td>\n",
       "      <td>2035.00</td>\n",
       "    </tr>\n",
       "    <tr>\n",
       "      <th>3</th>\n",
       "      <td>4/29/2020</td>\n",
       "      <td>NaN</td>\n",
       "      <td>Andorra</td>\n",
       "      <td>743</td>\n",
       "      <td>42</td>\n",
       "      <td>423</td>\n",
       "      <td>465</td>\n",
       "      <td>418.25</td>\n",
       "    </tr>\n",
       "    <tr>\n",
       "      <th>4</th>\n",
       "      <td>4/29/2020</td>\n",
       "      <td>NaN</td>\n",
       "      <td>Angola</td>\n",
       "      <td>27</td>\n",
       "      <td>2</td>\n",
       "      <td>7</td>\n",
       "      <td>9</td>\n",
       "      <td>11.25</td>\n",
       "    </tr>\n",
       "  </tbody>\n",
       "</table>\n",
       "</div>"
      ],
      "text/plain": [
       "        Date State       Region  Confirmed  Deaths  Recovered  \\\n",
       "0  4/29/2020   NaN  Afghanistan       1939      60        252   \n",
       "1  4/29/2020   NaN      Albania        766      30        455   \n",
       "2  4/29/2020   NaN      Algeria       3848     444       1702   \n",
       "3  4/29/2020   NaN      Andorra        743      42        423   \n",
       "4  4/29/2020   NaN       Angola         27       2          7   \n",
       "\n",
       "   add_recover_death  mean_row_wise  \n",
       "0                312         640.75  \n",
       "1                485         434.00  \n",
       "2               2146        2035.00  \n",
       "3                465         418.25  \n",
       "4                  9          11.25  "
      ]
     },
     "execution_count": 37,
     "metadata": {},
     "output_type": "execute_result"
    }
   ],
   "source": [
    "df.drop_duplicates().head()"
   ]
  },
  {
   "cell_type": "markdown",
   "id": "3a2f4c8e",
   "metadata": {},
   "source": [
    "27.: How can you calculate the element-wise product of two DataFrames df1 and df2? "
   ]
  },
  {
   "cell_type": "markdown",
   "id": "46e39429",
   "metadata": {},
   "source": [
    "Ans :- df1 * df2 "
   ]
  },
  {
   "cell_type": "markdown",
   "id": "ecedafbe",
   "metadata": {},
   "source": [
    "28.: What does the ffill() function in Pandas do?"
   ]
  },
  {
   "cell_type": "markdown",
   "id": "eeaae804",
   "metadata": {},
   "source": [
    "Ans :- Fills missing values forward (from top to bottom) in a DataFrame."
   ]
  },
  {
   "cell_type": "code",
   "execution_count": 39,
   "id": "9703d339",
   "metadata": {},
   "outputs": [
    {
     "data": {
      "text/html": [
       "<div>\n",
       "<style scoped>\n",
       "    .dataframe tbody tr th:only-of-type {\n",
       "        vertical-align: middle;\n",
       "    }\n",
       "\n",
       "    .dataframe tbody tr th {\n",
       "        vertical-align: top;\n",
       "    }\n",
       "\n",
       "    .dataframe thead th {\n",
       "        text-align: right;\n",
       "    }\n",
       "</style>\n",
       "<table border=\"1\" class=\"dataframe\">\n",
       "  <thead>\n",
       "    <tr style=\"text-align: right;\">\n",
       "      <th></th>\n",
       "      <th>Date</th>\n",
       "      <th>State</th>\n",
       "      <th>Region</th>\n",
       "      <th>Confirmed</th>\n",
       "      <th>Deaths</th>\n",
       "      <th>Recovered</th>\n",
       "      <th>add_recover_death</th>\n",
       "      <th>mean_row_wise</th>\n",
       "    </tr>\n",
       "  </thead>\n",
       "  <tbody>\n",
       "    <tr>\n",
       "      <th>0</th>\n",
       "      <td>4/29/2020</td>\n",
       "      <td>NaN</td>\n",
       "      <td>Afghanistan</td>\n",
       "      <td>1939</td>\n",
       "      <td>60</td>\n",
       "      <td>252</td>\n",
       "      <td>312</td>\n",
       "      <td>640.75</td>\n",
       "    </tr>\n",
       "    <tr>\n",
       "      <th>1</th>\n",
       "      <td>4/29/2020</td>\n",
       "      <td>NaN</td>\n",
       "      <td>Albania</td>\n",
       "      <td>766</td>\n",
       "      <td>30</td>\n",
       "      <td>455</td>\n",
       "      <td>485</td>\n",
       "      <td>434.00</td>\n",
       "    </tr>\n",
       "    <tr>\n",
       "      <th>2</th>\n",
       "      <td>4/29/2020</td>\n",
       "      <td>NaN</td>\n",
       "      <td>Algeria</td>\n",
       "      <td>3848</td>\n",
       "      <td>444</td>\n",
       "      <td>1702</td>\n",
       "      <td>2146</td>\n",
       "      <td>2035.00</td>\n",
       "    </tr>\n",
       "    <tr>\n",
       "      <th>3</th>\n",
       "      <td>4/29/2020</td>\n",
       "      <td>NaN</td>\n",
       "      <td>Andorra</td>\n",
       "      <td>743</td>\n",
       "      <td>42</td>\n",
       "      <td>423</td>\n",
       "      <td>465</td>\n",
       "      <td>418.25</td>\n",
       "    </tr>\n",
       "    <tr>\n",
       "      <th>4</th>\n",
       "      <td>4/29/2020</td>\n",
       "      <td>NaN</td>\n",
       "      <td>Angola</td>\n",
       "      <td>27</td>\n",
       "      <td>2</td>\n",
       "      <td>7</td>\n",
       "      <td>9</td>\n",
       "      <td>11.25</td>\n",
       "    </tr>\n",
       "  </tbody>\n",
       "</table>\n",
       "</div>"
      ],
      "text/plain": [
       "        Date State       Region  Confirmed  Deaths  Recovered  \\\n",
       "0  4/29/2020   NaN  Afghanistan       1939      60        252   \n",
       "1  4/29/2020   NaN      Albania        766      30        455   \n",
       "2  4/29/2020   NaN      Algeria       3848     444       1702   \n",
       "3  4/29/2020   NaN      Andorra        743      42        423   \n",
       "4  4/29/2020   NaN       Angola         27       2          7   \n",
       "\n",
       "   add_recover_death  mean_row_wise  \n",
       "0                312         640.75  \n",
       "1                485         434.00  \n",
       "2               2146        2035.00  \n",
       "3                465         418.25  \n",
       "4                  9          11.25  "
      ]
     },
     "execution_count": 39,
     "metadata": {},
     "output_type": "execute_result"
    }
   ],
   "source": [
    "df.ffill().head()"
   ]
  },
  {
   "cell_type": "markdown",
   "id": "7fced02e",
   "metadata": {},
   "source": [
    "29.: How can you create a pivot table with multiple aggregation functions for a DataFrame df? "
   ]
  },
  {
   "cell_type": "markdown",
   "id": "b2092395",
   "metadata": {},
   "source": [
    "Ans :- df.pivot_table(values='value_column', index='index_column', columns='columns_column', aggfunc=['sum', 'mean']) "
   ]
  },
  {
   "cell_type": "markdown",
   "id": "add7c6d8",
   "metadata": {},
   "source": [
    "30.: What does the cut() function in Pandas do?"
   ]
  },
  {
   "cell_type": "markdown",
   "id": "9c255ac5",
   "metadata": {},
   "source": [
    "Ans :- Categorizes continuous data into intervals or bins."
   ]
  },
  {
   "cell_type": "markdown",
   "id": "6fe91715",
   "metadata": {},
   "source": [
    "31.: How can you handle missing values in a DataFrame df by filling them with the mean value of the column?"
   ]
  },
  {
   "cell_type": "markdown",
   "id": "cea8f206",
   "metadata": {},
   "source": [
    "Ans :- df.fillna(df.mean())"
   ]
  },
  {
   "cell_type": "code",
   "execution_count": 41,
   "id": "0e3b43fa",
   "metadata": {},
   "outputs": [
    {
     "name": "stderr",
     "output_type": "stream",
     "text": [
      "C:\\Users\\Pranit Ganar\\AppData\\Local\\Temp\\ipykernel_7136\\3491153192.py:1: FutureWarning: Dropping of nuisance columns in DataFrame reductions (with 'numeric_only=None') is deprecated; in a future version this will raise TypeError.  Select only valid columns before calling the reduction.\n",
      "  df.fillna(df.mean()).head()\n"
     ]
    },
    {
     "data": {
      "text/html": [
       "<div>\n",
       "<style scoped>\n",
       "    .dataframe tbody tr th:only-of-type {\n",
       "        vertical-align: middle;\n",
       "    }\n",
       "\n",
       "    .dataframe tbody tr th {\n",
       "        vertical-align: top;\n",
       "    }\n",
       "\n",
       "    .dataframe thead th {\n",
       "        text-align: right;\n",
       "    }\n",
       "</style>\n",
       "<table border=\"1\" class=\"dataframe\">\n",
       "  <thead>\n",
       "    <tr style=\"text-align: right;\">\n",
       "      <th></th>\n",
       "      <th>Date</th>\n",
       "      <th>State</th>\n",
       "      <th>Region</th>\n",
       "      <th>Confirmed</th>\n",
       "      <th>Deaths</th>\n",
       "      <th>Recovered</th>\n",
       "      <th>add_recover_death</th>\n",
       "      <th>mean_row_wise</th>\n",
       "    </tr>\n",
       "  </thead>\n",
       "  <tbody>\n",
       "    <tr>\n",
       "      <th>0</th>\n",
       "      <td>4/29/2020</td>\n",
       "      <td>NaN</td>\n",
       "      <td>Afghanistan</td>\n",
       "      <td>1939</td>\n",
       "      <td>60</td>\n",
       "      <td>252</td>\n",
       "      <td>312</td>\n",
       "      <td>640.75</td>\n",
       "    </tr>\n",
       "    <tr>\n",
       "      <th>1</th>\n",
       "      <td>4/29/2020</td>\n",
       "      <td>NaN</td>\n",
       "      <td>Albania</td>\n",
       "      <td>766</td>\n",
       "      <td>30</td>\n",
       "      <td>455</td>\n",
       "      <td>485</td>\n",
       "      <td>434.00</td>\n",
       "    </tr>\n",
       "    <tr>\n",
       "      <th>2</th>\n",
       "      <td>4/29/2020</td>\n",
       "      <td>NaN</td>\n",
       "      <td>Algeria</td>\n",
       "      <td>3848</td>\n",
       "      <td>444</td>\n",
       "      <td>1702</td>\n",
       "      <td>2146</td>\n",
       "      <td>2035.00</td>\n",
       "    </tr>\n",
       "    <tr>\n",
       "      <th>3</th>\n",
       "      <td>4/29/2020</td>\n",
       "      <td>NaN</td>\n",
       "      <td>Andorra</td>\n",
       "      <td>743</td>\n",
       "      <td>42</td>\n",
       "      <td>423</td>\n",
       "      <td>465</td>\n",
       "      <td>418.25</td>\n",
       "    </tr>\n",
       "    <tr>\n",
       "      <th>4</th>\n",
       "      <td>4/29/2020</td>\n",
       "      <td>NaN</td>\n",
       "      <td>Angola</td>\n",
       "      <td>27</td>\n",
       "      <td>2</td>\n",
       "      <td>7</td>\n",
       "      <td>9</td>\n",
       "      <td>11.25</td>\n",
       "    </tr>\n",
       "  </tbody>\n",
       "</table>\n",
       "</div>"
      ],
      "text/plain": [
       "        Date State       Region  Confirmed  Deaths  Recovered  \\\n",
       "0  4/29/2020   NaN  Afghanistan       1939      60        252   \n",
       "1  4/29/2020   NaN      Albania        766      30        455   \n",
       "2  4/29/2020   NaN      Algeria       3848     444       1702   \n",
       "3  4/29/2020   NaN      Andorra        743      42        423   \n",
       "4  4/29/2020   NaN       Angola         27       2          7   \n",
       "\n",
       "   add_recover_death  mean_row_wise  \n",
       "0                312         640.75  \n",
       "1                485         434.00  \n",
       "2               2146        2035.00  \n",
       "3                465         418.25  \n",
       "4                  9          11.25  "
      ]
     },
     "execution_count": 41,
     "metadata": {},
     "output_type": "execute_result"
    }
   ],
   "source": [
    "df.fillna(df.mean()).head()"
   ]
  },
  {
   "cell_type": "markdown",
   "id": "3d5763c8",
   "metadata": {},
   "source": [
    "32.: What does the applymap() function in Pandas do?"
   ]
  },
  {
   "cell_type": "markdown",
   "id": "412206bc",
   "metadata": {},
   "source": [
    "Ans :-  Applies a function element-wise to a DataFrame."
   ]
  },
  {
   "cell_type": "markdown",
   "id": "57eb3d25",
   "metadata": {},
   "source": [
    "33.MCQ: How can you replace all occurrences of a specific value (e.g., 'old_value') in a DataFrame df with a new value (e.g., 'new_value')?"
   ]
  },
  {
   "cell_type": "markdown",
   "id": "d8de2e5e",
   "metadata": {},
   "source": [
    "Ans :- df.replace('old_value', 'new_value', inplace=True) "
   ]
  },
  {
   "cell_type": "markdown",
   "id": "9979de78",
   "metadata": {},
   "source": [
    "34.: What does the merge_asof() function in Pandas do? "
   ]
  },
  {
   "cell_type": "markdown",
   "id": "a1bb7427",
   "metadata": {},
   "source": [
    "Ans :- Merges two DataFrames based on the closest match to a key column."
   ]
  },
  {
   "cell_type": "markdown",
   "id": "7a70e3fd",
   "metadata": {},
   "source": [
    "35.: How can you calculate the percentage change of a DataFrame df along the columns?"
   ]
  },
  {
   "cell_type": "markdown",
   "id": "4a56d404",
   "metadata": {},
   "source": [
    "Ans :- df.pct_change()"
   ]
  },
  {
   "cell_type": "markdown",
   "id": "89b4dda9",
   "metadata": {},
   "source": [
    "36.: What does the dt accessor in Pandas do? "
   ]
  },
  {
   "cell_type": "markdown",
   "id": "bc8f8c4a",
   "metadata": {},
   "source": [
    "Ans :-  Provides access to datetime properties and methods in a Series. "
   ]
  },
  {
   "cell_type": "markdown",
   "id": "019b7ed9",
   "metadata": {},
   "source": [
    "37.: How can you perform element-wise subtraction of two DataFrames df1 and df2 and replace missing values with 0?"
   ]
  },
  {
   "cell_type": "markdown",
   "id": "55ba7655",
   "metadata": {},
   "source": [
    "Ans :- df1.sub(df2, fill_value=0)"
   ]
  },
  {
   "cell_type": "markdown",
   "id": "aad0c0bd",
   "metadata": {},
   "source": [
    "38.: What does the to_datetime() function in Pandas do"
   ]
  },
  {
   "cell_type": "markdown",
   "id": "9b831ee3",
   "metadata": {},
   "source": [
    "Ans :- Converts a Series to a datetime data type."
   ]
  },
  {
   "cell_type": "markdown",
   "id": "b523948c",
   "metadata": {},
   "source": [
    "39.: How can you select rows from a DataFrame df where the values in column 'column_name' are not null?"
   ]
  },
  {
   "cell_type": "markdown",
   "id": "b92e01a3",
   "metadata": {},
   "source": [
    "Ans :- All of the above"
   ]
  },
  {
   "cell_type": "markdown",
   "id": "55702b54",
   "metadata": {},
   "source": [
    "40.: What does the query() function in Pandas do?"
   ]
  },
  {
   "cell_type": "markdown",
   "id": "38a57318",
   "metadata": {},
   "source": [
    "Ans :- Selects rows from a DataFrame based on a query string. "
   ]
  },
  {
   "cell_type": "code",
   "execution_count": null,
   "id": "bbcfb838",
   "metadata": {},
   "outputs": [],
   "source": []
  }
 ],
 "metadata": {
  "kernelspec": {
   "display_name": "Python 3 (ipykernel)",
   "language": "python",
   "name": "python3"
  },
  "language_info": {
   "codemirror_mode": {
    "name": "ipython",
    "version": 3
   },
   "file_extension": ".py",
   "mimetype": "text/x-python",
   "name": "python",
   "nbconvert_exporter": "python",
   "pygments_lexer": "ipython3",
   "version": "3.9.12"
  }
 },
 "nbformat": 4,
 "nbformat_minor": 5
}
