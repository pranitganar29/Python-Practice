{
 "cells": [
  {
   "cell_type": "code",
   "execution_count": 9,
   "id": "5443003c",
   "metadata": {},
   "outputs": [
    {
     "name": "stdout",
     "output_type": "stream",
     "text": [
      "Enter Number between 1 to 30 16\n",
      "Weird\n"
     ]
    }
   ],
   "source": [
    "n = int(input('Enter Number between 1 to 30 '))\n",
    "if(n%2==0):\n",
    "    if(2<n<5):\n",
    "        print(\"Not Weird\")\n",
    "    elif(6<n<20):\n",
    "        print(\"Weird\")\n",
    "    else:\n",
    "        print(\"Not Weird\")\n",
    "else:\n",
    "    print(\"Weird\")"
   ]
  },
  {
   "cell_type": "code",
   "execution_count": 13,
   "id": "da873ac6",
   "metadata": {},
   "outputs": [
    {
     "name": "stdout",
     "output_type": "stream",
     "text": [
      "Enter Random Number 5\n",
      "12345"
     ]
    }
   ],
   "source": [
    "num = int(input('Enter Random Number '))\n",
    "\n",
    "if(1<=num<=150):                                   \n",
    "    for i in range (1,num+1):\n",
    "        print(str(i),end=\"\")\n",
    "else:\n",
    "    print(\"Enter valid input (Range Between 1 to 150 )\")"
   ]
  },
  {
   "cell_type": "code",
   "execution_count": 42,
   "id": "8efe1eca",
   "metadata": {},
   "outputs": [
    {
     "name": "stdout",
     "output_type": "stream",
     "text": [
      "Enter the value of x :- 1\n",
      "Enter the value of y :- 1\n",
      "Enter the value of z :- 2\n",
      "Enter the value of n :- 3\n"
     ]
    },
    {
     "data": {
      "text/plain": [
       "[[0, 0, 0],\n",
       " [0, 0, 1],\n",
       " [0, 0, 2],\n",
       " [0, 1, 0],\n",
       " [0, 1, 1],\n",
       " [0, 1, 2],\n",
       " [1, 0, 0],\n",
       " [1, 0, 1],\n",
       " [1, 0, 2],\n",
       " [1, 1, 0],\n",
       " [1, 1, 1],\n",
       " [1, 1, 2]]"
      ]
     },
     "execution_count": 42,
     "metadata": {},
     "output_type": "execute_result"
    }
   ],
   "source": [
    "# The basic syntax of a list comprehension in Python is:\n",
    "# [expression for item in iterable if condition]\n",
    "\n",
    "x = int(input('Enter the value of x :- '))\n",
    "y = int(input('Enter the value of y :- '))\n",
    "z = int(input('Enter the value of z :- '))\n",
    "n = int(input('Enter the value of n :- '))\n",
    "\n",
    "coordinates = [[i,j,k] for i in range (x+1) for j in range (y+1) for k in range (z+1) if [i+j+k != n]]\n",
    "coordinates\n",
    "    "
   ]
  },
  {
   "cell_type": "code",
   "execution_count": 18,
   "id": "174a5582",
   "metadata": {},
   "outputs": [
    {
     "name": "stdout",
     "output_type": "stream",
     "text": [
      "Enter total number of student participants in University Sports Day :- 5\n",
      "Enter Scores :- 2\n",
      "Enter Scores :- 3\n",
      "Enter Scores :- 6\n",
      "Enter Scores :- 6\n",
      "Enter Scores :- 5\n",
      "Score List :-  [2, 3, 6, 6, 5]\n",
      "\n",
      "The Runner-Up Score is  5\n"
     ]
    }
   ],
   "source": [
    "student_size = int(input(\"Enter total number of student participants in University Sports Day :- \"))\n",
    "\n",
    "if (2 <= student_size <= 10):\n",
    "    score_list = []\n",
    "    for i in range(student_size):\n",
    "        score = int(input('Enter Scores :- '))\n",
    "        score_list.append(score)\n",
    "else:\n",
    "    print(\"Enter valid input(Range Between 2 to 10)\")\n",
    "        \n",
    "print(\"Score List :- \",score_list)\n",
    "print()\n",
    "\n",
    "max_score = 0\n",
    "runner_up_score = 0\n",
    "for i in score_list:\n",
    "    if (i>max_score):\n",
    "        runner_up_score = max_score\n",
    "        max_score = i\n",
    "    elif(i>runner_up_score and i!=max_score):\n",
    "        runner_up_score = i\n",
    "\n",
    "print('The Runner-Up Score is ',runner_up_score )\n",
    "\n"
   ]
  },
  {
   "cell_type": "code",
   "execution_count": 5,
   "id": "0150cfe6",
   "metadata": {},
   "outputs": [
    {
     "name": "stdout",
     "output_type": "stream",
     "text": [
      "Enter Total Numbers of Student :- 5\n",
      "Enter Name of Student :- Harry\n",
      "Enter Student Grades :- 37.21\n",
      "Enter Name of Student :- Barry\n",
      "Enter Student Grades :- 37.21\n",
      "Enter Name of Student :- Tina\n",
      "Enter Student Grades :- 37.2\n",
      "Enter Name of Student :- Akriti\n",
      "Enter Student Grades :- 41\n",
      "Enter Name of Student :- Harsh\n",
      "Enter Student Grades :- 39\n",
      "Results :-  [['Harry', 37.21], ['Barry', 37.21], ['Tina', 37.2], ['Akriti', 41.0], ['Harsh', 39.0]]\n",
      "\n",
      "Sorted Results :-  [['Tina', 37.2], ['Harry', 37.21], ['Barry', 37.21], ['Harsh', 39.0], ['Akriti', 41.0]]\n",
      "\n",
      "Second Lowest Grade :-  37.21\n",
      "\n",
      "Second Lowest Grade Name :-  ['Harry', 'Barry']\n",
      "\n",
      "Student Name :-  Barry\n",
      "Student Name :-  Harry\n"
     ]
    }
   ],
   "source": [
    "result = []\n",
    "number_of_student = int(input('Enter Total Numbers of Student :- '))\n",
    "if(2<=number_of_student<=5):\n",
    "    for i in range(number_of_student):\n",
    "        name = input('Enter Name of Student :- ')\n",
    "        grade = float(input('Enter Student Grades :- '))\n",
    "        result.append([name,grade])\n",
    "\n",
    "print('Results :- ',result)\n",
    "print()\n",
    "sort_results = sorted(result, key = lambda x:x[1])\n",
    "print('Sorted Results :- ',sort_results)\n",
    "print()\n",
    "\n",
    "second_lowest_grade = sorted(set(grade for name,grade in sort_results ))[1]\n",
    "print('Second Lowest Grade :- ',second_lowest_grade)\n",
    "print()\n",
    "\n",
    "second_lowest_grade_name = [name for name,grade in sort_results if grade == second_lowest_grade]\n",
    "print('Second Lowest Grade Name :- ',second_lowest_grade_name)\n",
    "print()\n",
    "\n",
    "for i in sorted(second_lowest_grade_name):\n",
    "    print('Student Name :- ',i)"
   ]
  },
  {
   "cell_type": "code",
   "execution_count": null,
   "id": "2e507ec6",
   "metadata": {},
   "outputs": [],
   "source": []
  }
 ],
 "metadata": {
  "kernelspec": {
   "display_name": "Python 3 (ipykernel)",
   "language": "python",
   "name": "python3"
  },
  "language_info": {
   "codemirror_mode": {
    "name": "ipython",
    "version": 3
   },
   "file_extension": ".py",
   "mimetype": "text/x-python",
   "name": "python",
   "nbconvert_exporter": "python",
   "pygments_lexer": "ipython3",
   "version": "3.9.12"
  }
 },
 "nbformat": 4,
 "nbformat_minor": 5
}
