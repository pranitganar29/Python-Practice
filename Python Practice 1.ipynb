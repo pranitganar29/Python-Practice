{
 "cells": [
  {
   "cell_type": "markdown",
   "id": "186f8772",
   "metadata": {},
   "source": [
    "# Q.1  Converting an Integer into Decimals ?\n"
   ]
  },
  {
   "cell_type": "code",
   "execution_count": 1,
   "id": "01e68393",
   "metadata": {},
   "outputs": [
    {
     "name": "stdout",
     "output_type": "stream",
     "text": [
      "Converting value from Integer to Decimals :-  123.45\n"
     ]
    }
   ],
   "source": [
    "# Q.1  Converting an Integer into Decimals ?\n",
    " \n",
    "x = 12345\n",
    "y = x / 100  # for one decimal point divide x by 10\n",
    "print('Converting value from Integer to Decimals :- ', y)"
   ]
  },
  {
   "cell_type": "markdown",
   "id": "35f38ee4",
   "metadata": {},
   "source": [
    "# Q.2  Converting an String of Integers into Decimals ?\n"
   ]
  },
  {
   "cell_type": "code",
   "execution_count": 3,
   "id": "e85ee158",
   "metadata": {},
   "outputs": [
    {
     "name": "stdout",
     "output_type": "stream",
     "text": [
      "Enter Number to convert String of Integers into Decimals :- 7586\n",
      "758.6\n"
     ]
    }
   ],
   "source": [
    "string = input('Enter Number to convert String of Integers into Decimals :- ')\n",
    "\n",
    "number = int(string)\n",
    "\n",
    "decimal = number / 10\n",
    "\n",
    "print(decimal)"
   ]
  },
  {
   "cell_type": "markdown",
   "id": "457c4fd8",
   "metadata": {},
   "source": [
    "# Q.3  Reversing a string using an Extended Slicing Technique ? \n"
   ]
  },
  {
   "cell_type": "code",
   "execution_count": 4,
   "id": "9e8ad371",
   "metadata": {},
   "outputs": [
    {
     "name": "stdout",
     "output_type": "stream",
     "text": [
      "Enter string data to show results in reverse format :- PYTHON\n",
      "Results :-  NOHTYP\n"
     ]
    }
   ],
   "source": [
    "user_input = input('Enter string data to show results in reverse format :- ')\n",
    "reverse = user_input[::-1]\n",
    "print(\"Results :- \",reverse)"
   ]
  },
  {
   "cell_type": "markdown",
   "id": "51889b57",
   "metadata": {},
   "source": [
    "# Q.4  Counting the number of occurances of a character in a string ?\n"
   ]
  },
  {
   "cell_type": "code",
   "execution_count": 5,
   "id": "b9ba5ed6",
   "metadata": {},
   "outputs": [
    {
     "name": "stdout",
     "output_type": "stream",
     "text": [
      "Check count of occurances of a character in a string :- ball\n",
      "Enter character for occurances :- l\n",
      "Occurances of l is 2\n"
     ]
    }
   ],
   "source": [
    "name = input(\"Check count of occurances of a character in a string :- \")\n",
    "char = input(\"Enter character for occurances :- \")\n",
    "count = 0\n",
    "for i in name:\n",
    "    if i == char :\n",
    "        count = count + 1\n",
    "print(\"Occurances of \"+char+\" is\",count)"
   ]
  },
  {
   "cell_type": "markdown",
   "id": "a27e4496",
   "metadata": {},
   "source": [
    "# Q.5  Find the maximum and minimum number in a list ?\n"
   ]
  },
  {
   "cell_type": "code",
   "execution_count": 6,
   "id": "a56a21c5",
   "metadata": {},
   "outputs": [
    {
     "name": "stdout",
     "output_type": "stream",
     "text": [
      "Enter size of list :- 5\n",
      "Enter Numbers :- 45\n",
      "Enter Numbers :- 68\n",
      "Enter Numbers :- 75\n",
      "Enter Numbers :- 92\n",
      "Enter Numbers :- 56\n",
      "List = [45, 68, 75, 92, 56]\n",
      "Maximum number in a given list is  92\n",
      "Minimum number in a given list is  45\n"
     ]
    }
   ],
   "source": [
    "# using max() and min() function\n",
    "\n",
    "List = []\n",
    "size = int(input(\"Enter size of list :- \"))\n",
    "for i in range (size):\n",
    "    n = int(input(\"Enter Numbers :- \"))\n",
    "    List.append(n)\n",
    "    \n",
    "print('List =',List)\n",
    "\n",
    "max_nu = max(List)\n",
    "min_nu = min(List)\n",
    "\n",
    "print(\"Maximum number in a given list is \",max_nu)\n",
    "print(\"Minimum number in a given list is \",min_nu)"
   ]
  },
  {
   "cell_type": "markdown",
   "id": "384ccb9e",
   "metadata": {},
   "source": [
    "# Q.6  Find the middle element in a list ? \n",
    "`"
   ]
  },
  {
   "cell_type": "code",
   "execution_count": 7,
   "id": "add7c48c",
   "metadata": {},
   "outputs": [
    {
     "name": "stdout",
     "output_type": "stream",
     "text": [
      "Middle Elements :-  3 4\n"
     ]
    }
   ],
   "source": [
    "l = [1,2,3,4,5,6]\n",
    "length = len(l)\n",
    "\n",
    "if length%2 == 0:\n",
    "    mid_index_1 = length//2-1\n",
    "    mid_element_1 = l[mid_index_1]\n",
    "    mid_index_2 = length//2\n",
    "    mid_element_2 = l[mid_index_2]\n",
    "    print(\"Middle Elements :- \",mid_element_1,mid_element_2)\n",
    "else:\n",
    "    mid_index = length//2\n",
    "    mid_element = l[mid_index]\n",
    "    print(\"Middle Elements :- \",mid_element)"
   ]
  },
  {
   "cell_type": "markdown",
   "id": "fa91bda0",
   "metadata": {},
   "source": [
    "# Q.7  Converting a list into a string ?\n"
   ]
  },
  {
   "cell_type": "code",
   "execution_count": 8,
   "id": "ca76a3c0",
   "metadata": {},
   "outputs": [
    {
     "data": {
      "text/plain": [
       "'Data Analyst & Data Scientist'"
      ]
     },
     "execution_count": 8,
     "metadata": {},
     "output_type": "execute_result"
    }
   ],
   "source": [
    "# Using join() function\n",
    "\n",
    "cource = [\"Data\",\" \",\"Analyst\",\" \",\"&\",\" \",\"Data\",\" \",\"Scientist\"]\n",
    "out_put = ''.join(cource)\n",
    "out_put"
   ]
  },
  {
   "cell_type": "markdown",
   "id": "77b0d243",
   "metadata": {},
   "source": [
    "# Q.8  Adding two list elements together ?\n"
   ]
  },
  {
   "cell_type": "code",
   "execution_count": 9,
   "id": "7c1154c7",
   "metadata": {},
   "outputs": [
    {
     "name": "stdout",
     "output_type": "stream",
     "text": [
      "Add List [1, 2, 3, 4, 5, 6, 7, 8]\n",
      "Sum 36\n"
     ]
    }
   ],
   "source": [
    "lst1 = [1,2,3,4]\n",
    "lst2 = [5,6,7,8]\n",
    "\n",
    "add = (lst1 + lst2)\n",
    "\n",
    "total_sum = sum(lst1 + lst2)\n",
    "\n",
    "print('Add List',add)\n",
    "print('Sum',total_sum)"
   ]
  },
  {
   "cell_type": "code",
   "execution_count": 10,
   "id": "b9b67422",
   "metadata": {},
   "outputs": [
    {
     "data": {
      "text/plain": [
       "[6, 8, 10, 12]"
      ]
     },
     "execution_count": 10,
     "metadata": {},
     "output_type": "execute_result"
    }
   ],
   "source": [
    "import numpy as np\n",
    "\n",
    "ar1 = np.array(lst1)\n",
    "ar2 = np.array(lst2)\n",
    "\n",
    "final = ar1 + ar2\n",
    "final\n",
    "\n",
    "Add_list = final.tolist()\n",
    "Add_list"
   ]
  },
  {
   "cell_type": "code",
   "execution_count": null,
   "id": "f5e721e5",
   "metadata": {},
   "outputs": [],
   "source": []
  }
 ],
 "metadata": {
  "kernelspec": {
   "display_name": "Python 3 (ipykernel)",
   "language": "python",
   "name": "python3"
  },
  "language_info": {
   "codemirror_mode": {
    "name": "ipython",
    "version": 3
   },
   "file_extension": ".py",
   "mimetype": "text/x-python",
   "name": "python",
   "nbconvert_exporter": "python",
   "pygments_lexer": "ipython3",
   "version": "3.9.12"
  }
 },
 "nbformat": 4,
 "nbformat_minor": 5
}
