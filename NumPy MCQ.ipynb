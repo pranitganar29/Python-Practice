{
 "cells": [
  {
   "cell_type": "markdown",
   "id": "ad9bc866",
   "metadata": {},
   "source": [
    "1.: What does NumPy stand for? "
   ]
  },
  {
   "cell_type": "markdown",
   "id": "67c29810",
   "metadata": {},
   "source": [
    "Ans :- Numerical Python "
   ]
  },
  {
   "cell_type": "markdown",
   "id": "38e4a8eb",
   "metadata": {},
   "source": [
    "2.: Which of the following is the correct way to import NumPy?"
   ]
  },
  {
   "cell_type": "markdown",
   "id": "d5cb5c1b",
   "metadata": {},
   "source": [
    "Ans :-  import numpy as np "
   ]
  },
  {
   "cell_type": "markdown",
   "id": "4007615a",
   "metadata": {},
   "source": [
    "3.: Which data structure is used in NumPy to represent n-dimensional arrays?"
   ]
  },
  {
   "cell_type": "markdown",
   "id": "28af5a94",
   "metadata": {},
   "source": [
    "Ans :- ndarray"
   ]
  },
  {
   "cell_type": "code",
   "execution_count": 3,
   "id": "afddfc79",
   "metadata": {},
   "outputs": [
    {
     "name": "stdout",
     "output_type": "stream",
     "text": [
      "(5,)\n",
      "1\n"
     ]
    }
   ],
   "source": [
    "import numpy as np\n",
    "\n",
    "a = np.array([1,2,3,4,5])\n",
    "print(a.shape)\n",
    "print(a.ndim)"
   ]
  },
  {
   "cell_type": "markdown",
   "id": "3d3a5108",
   "metadata": {},
   "source": [
    "4.: How to create an array of zeros with shape (3, 4) in NumPy? "
   ]
  },
  {
   "cell_type": "markdown",
   "id": "9b7cfe97",
   "metadata": {},
   "source": [
    "Ans :- np.zeros((3, 4))"
   ]
  },
  {
   "cell_type": "code",
   "execution_count": 11,
   "id": "ed560285",
   "metadata": {},
   "outputs": [
    {
     "name": "stdout",
     "output_type": "stream",
     "text": [
      "[[0. 0. 0. 0.]\n",
      " [0. 0. 0. 0.]\n",
      " [0. 0. 0. 0.]]\n"
     ]
    }
   ],
   "source": [
    "b = np.zeros((3,4))\n",
    "print(b)"
   ]
  },
  {
   "cell_type": "markdown",
   "id": "31f716c8",
   "metadata": {},
   "source": [
    "5.: What does the function np.arange(5, 15, 2) return?"
   ]
  },
  {
   "cell_type": "markdown",
   "id": "18ce0955",
   "metadata": {},
   "source": [
    "Ans :- [5, 7, 9, 11, 13]"
   ]
  },
  {
   "cell_type": "code",
   "execution_count": 12,
   "id": "78332caa",
   "metadata": {},
   "outputs": [
    {
     "name": "stdout",
     "output_type": "stream",
     "text": [
      "[ 5  7  9 11 13]\n"
     ]
    }
   ],
   "source": [
    "c =np.arange(5,15,2)\n",
    "print(c)"
   ]
  },
  {
   "cell_type": "markdown",
   "id": "cc248d6b",
   "metadata": {},
   "source": [
    "6.: How to perform element-wise multiplication of two arrays in NumPy?"
   ]
  },
  {
   "cell_type": "markdown",
   "id": "93ee5e20",
   "metadata": {},
   "source": [
    "Ans :- np.multiply(arr1, arr2)"
   ]
  },
  {
   "cell_type": "code",
   "execution_count": 15,
   "id": "384fbf9c",
   "metadata": {},
   "outputs": [
    {
     "name": "stdout",
     "output_type": "stream",
     "text": [
      "[ 5 12 21 32]\n",
      "[ 5 12 21 32]\n"
     ]
    }
   ],
   "source": [
    "a = np.array([1,2,3,4])\n",
    "b = np.array([5,6,7,8])\n",
    "\n",
    "c = a * b\n",
    "print(c)\n",
    "\n",
    "# d = a.multiply(b)\n",
    "# print(d)\n",
    "\n",
    "e = np.multiply(a,b)\n",
    "print(e)"
   ]
  },
  {
   "cell_type": "markdown",
   "id": "787da50f",
   "metadata": {},
   "source": [
    "7.: What does the function np.linalg.inv(matrix) do in NumPy?"
   ]
  },
  {
   "cell_type": "markdown",
   "id": "13427028",
   "metadata": {},
   "source": [
    "Ans :- Calculates the inverse of the matrix"
   ]
  },
  {
   "cell_type": "code",
   "execution_count": 17,
   "id": "d26269be",
   "metadata": {},
   "outputs": [
    {
     "name": "stdout",
     "output_type": "stream",
     "text": [
      "[[-4.50359963e+15  9.00719925e+15 -4.50359963e+15]\n",
      " [ 9.00719925e+15 -1.80143985e+16  9.00719925e+15]\n",
      " [-4.50359963e+15  9.00719925e+15 -4.50359963e+15]]\n"
     ]
    }
   ],
   "source": [
    "a = np.array([[1,2,3],[4,5,6],[7,8,9]])\n",
    "b = np.linalg.inv(a)\n",
    "print(b)"
   ]
  },
  {
   "cell_type": "markdown",
   "id": "fe60cffa",
   "metadata": {},
   "source": [
    "8.: How can you stack two arrays vertically in NumPy? "
   ]
  },
  {
   "cell_type": "markdown",
   "id": "c2bf554e",
   "metadata": {},
   "source": [
    "Ans :- np.vstack((arr1, arr2)) "
   ]
  },
  {
   "cell_type": "code",
   "execution_count": 22,
   "id": "b6da4ae6",
   "metadata": {},
   "outputs": [
    {
     "name": "stdout",
     "output_type": "stream",
     "text": [
      "[[1 2 3 4]\n",
      " [5 6 7 8]]\n",
      "[1 2 3 4 5 6 7 8]\n"
     ]
    }
   ],
   "source": [
    "a = np.array([1,2,3,4])\n",
    "b = np.array([5,6,7,8])\n",
    "\n",
    "c = np.vstack((a,b))\n",
    "print(c)\n",
    "\n",
    "# d = np.concatenate((a,b),axis=0)\n",
    "# print(d)\n",
    "\n",
    "# e = np.append(a,b,axis=0)\n",
    "# print(e)"
   ]
  },
  {
   "cell_type": "markdown",
   "id": "3b8ba3ca",
   "metadata": {},
   "source": [
    "9.: How to find the maximum value along a specific axis in a NumPy array?"
   ]
  },
  {
   "cell_type": "markdown",
   "id": "e924b5f1",
   "metadata": {},
   "source": [
    "Ans :- np.max(array, axis=0)"
   ]
  },
  {
   "cell_type": "code",
   "execution_count": 38,
   "id": "145236b0",
   "metadata": {},
   "outputs": [
    {
     "name": "stdout",
     "output_type": "stream",
     "text": [
      "[7 8 9]\n"
     ]
    }
   ],
   "source": [
    "# a = np.array([1,2,3,4])\n",
    "# m = np.max(a,axis=0)\n",
    "# print(m)\n",
    "\n",
    "b = np.array([[1,2,3],[4,5,6],[7,8,9]])\n",
    "b = np.max(b,axis=0)\n",
    "print(b)\n"
   ]
  },
  {
   "cell_type": "markdown",
   "id": "ff214529",
   "metadata": {},
   "source": [
    "10.MCQ: Which NumPy function is used to generate random numbers from a uniform distribution over the interval [0, 1)? "
   ]
  },
  {
   "cell_type": "markdown",
   "id": "9399b02b",
   "metadata": {},
   "source": [
    "Ans :- All of the above"
   ]
  },
  {
   "cell_type": "code",
   "execution_count": 42,
   "id": "6456a174",
   "metadata": {},
   "outputs": [
    {
     "name": "stdout",
     "output_type": "stream",
     "text": [
      "0.8869686747279933\n",
      "0.9418620939232923\n",
      "0.5745415627674548\n"
     ]
    }
   ],
   "source": [
    "a = np.random.random()\n",
    "print(a)\n",
    "\n",
    "b = np.random.uniform()\n",
    "print(b)\n",
    "\n",
    "c = np.random.rand()\n",
    "print(c)"
   ]
  },
  {
   "cell_type": "markdown",
   "id": "11ffdf1c",
   "metadata": {},
   "source": [
    "11. : Consider two NumPy arrays, arr1 = np.array([1, 2, 3]) and arr2 = np.array([4, 5, 6]). What is the result of the following\n",
    "      operation: np.dot(arr1, arr2)?"
   ]
  },
  {
   "cell_type": "markdown",
   "id": "5244bbcf",
   "metadata": {},
   "source": [
    "Ans :- 32"
   ]
  },
  {
   "cell_type": "code",
   "execution_count": 43,
   "id": "8a08ca35",
   "metadata": {},
   "outputs": [
    {
     "name": "stdout",
     "output_type": "stream",
     "text": [
      "32\n"
     ]
    }
   ],
   "source": [
    "arr1 = np.array([1, 2, 3])\n",
    "arr2 = np.array([4, 5, 6])\n",
    "\n",
    "a = np.dot(arr1,arr2) #The np.dot() function in NumPy is used to compute the dot product of two arrays.\n",
    "print(a)              # 2-dimensional (matrices), it performs matrix multiplication."
   ]
  },
  {
   "cell_type": "markdown",
   "id": "afd9446c",
   "metadata": {},
   "source": [
    "12.: Given a NumPy array arr = np.array([10, 20, 30, 40, 50]), what is the result of np.gradient(arr)? "
   ]
  },
  {
   "cell_type": "markdown",
   "id": "67e9735b",
   "metadata": {},
   "source": [
    "Ans :- [10, 10, 10, 10, 10]  "
   ]
  },
  {
   "cell_type": "code",
   "execution_count": 44,
   "id": "8842c5e5",
   "metadata": {},
   "outputs": [
    {
     "name": "stdout",
     "output_type": "stream",
     "text": [
      "[10. 10. 10. 10. 10.]\n"
     ]
    }
   ],
   "source": [
    "arr = np.array([10, 20, 30, 40, 50])  #The np.gradient() function in NumPy is used to compute the gradient of an array. \n",
    "                                #The gradient represents the rate of change of values in the array along different dimensions.\n",
    "a = np.gradient(arr)\n",
    "print(a)"
   ]
  },
  {
   "cell_type": "markdown",
   "id": "6581c58f",
   "metadata": {},
   "source": [
    "13.: What does the NumPy function np.where(arr > 5, 1, 0) do?"
   ]
  },
  {
   "cell_type": "markdown",
   "id": "8b05218e",
   "metadata": {},
   "source": [
    "Ans :- Sets elements greater than 5 to 1 and others to 0. "
   ]
  },
  {
   "cell_type": "code",
   "execution_count": 45,
   "id": "52071e57",
   "metadata": {},
   "outputs": [
    {
     "name": "stdout",
     "output_type": "stream",
     "text": [
      "[0 0 1 1 1 0 1 0]\n"
     ]
    }
   ],
   "source": [
    "arr1 = np.array([1,3,9,6,8,4,7,2])\n",
    "a = np.where(arr1>5,1,0)\n",
    "print(a)"
   ]
  },
  {
   "cell_type": "markdown",
   "id": "57b04df8",
   "metadata": {},
   "source": [
    "14.: Consider a 2D NumPy array arr = np.array([[1, 2], [3, 4]]). What is the result of np.trace(arr)?"
   ]
  },
  {
   "cell_type": "markdown",
   "id": "4f337445",
   "metadata": {},
   "source": [
    "Ans :- 5"
   ]
  },
  {
   "cell_type": "code",
   "execution_count": 46,
   "id": "053a39eb",
   "metadata": {},
   "outputs": [
    {
     "name": "stdout",
     "output_type": "stream",
     "text": [
      "5\n"
     ]
    }
   ],
   "source": [
    "arr = np.array([[1, 2], [3, 4]]) #The np.trace() function in NumPy is used to compute the sum of the diagonal elements of a \n",
    "a = np.trace(arr)                 # matrix.\n",
    "print(a)"
   ]
  },
  {
   "cell_type": "markdown",
   "id": "14e258b5",
   "metadata": {},
   "source": [
    "15.: Given two NumPy arrays arr1 = np.array([1, 2, 3, 4]) and arr2 = np.array([3, 4, 5, 6]), how can you find the elements that are common between both arrays?"
   ]
  },
  {
   "cell_type": "markdown",
   "id": "dda7d6b4",
   "metadata": {},
   "source": [
    "Ans :- np.intersect1d(arr1, arr2) "
   ]
  },
  {
   "cell_type": "code",
   "execution_count": 47,
   "id": "bf237ef8",
   "metadata": {},
   "outputs": [
    {
     "name": "stdout",
     "output_type": "stream",
     "text": [
      "[3 4]\n"
     ]
    }
   ],
   "source": [
    "arr1 = np.array([1, 2, 3, 4])\n",
    "arr2 = np.array([3, 4, 5, 6])\n",
    "\n",
    "c = np.intersect1d(arr1,arr2)\n",
    "print(c)\n"
   ]
  },
  {
   "cell_type": "markdown",
   "id": "4760acc0",
   "metadata": {},
   "source": [
    "16.: How can you concatenate two 2D NumPy arrays arr1 and arr2 vertically (row-wise)?"
   ]
  },
  {
   "cell_type": "markdown",
   "id": "27b1b547",
   "metadata": {},
   "source": [
    "Ans :- All of the above."
   ]
  },
  {
   "cell_type": "code",
   "execution_count": 53,
   "id": "b790d255",
   "metadata": {},
   "outputs": [
    {
     "name": "stdout",
     "output_type": "stream",
     "text": [
      "[[1 2]\n",
      " [3 4]\n",
      " [5 6]\n",
      " [7 8]]\n",
      "[[1 2]\n",
      " [3 4]\n",
      " [5 6]\n",
      " [7 8]]\n",
      "[[1 2]\n",
      " [3 4]\n",
      " [5 6]\n",
      " [7 8]]\n"
     ]
    }
   ],
   "source": [
    "arr1 = np.array([[1,2],[3,4]])\n",
    "arr2 = np.array([[5,6],[7,8]])\n",
    "\n",
    "a = np.concatenate((arr1,arr2))\n",
    "print(a)\n",
    "\n",
    "b = np.row_stack((arr1,arr2))\n",
    "print(b)\n",
    "\n",
    "c = np.vstack((arr1,arr2))\n",
    "print(c)"
   ]
  },
  {
   "cell_type": "markdown",
   "id": "85bd3907",
   "metadata": {},
   "source": [
    "17.: Given a 1D NumPy array arr = np.array([10, 20, 30, 40, 50]), what is the result of arr[1:4]?"
   ]
  },
  {
   "cell_type": "markdown",
   "id": "2910e77e",
   "metadata": {},
   "source": [
    "Ans :- [20 30 40]"
   ]
  },
  {
   "cell_type": "code",
   "execution_count": 54,
   "id": "27add815",
   "metadata": {},
   "outputs": [
    {
     "name": "stdout",
     "output_type": "stream",
     "text": [
      "[20 30 40]\n"
     ]
    }
   ],
   "source": [
    "arr = np.array([10, 20, 30, 40, 50])\n",
    "print(arr[1:4])"
   ]
  },
  {
   "cell_type": "markdown",
   "id": "04f2432b",
   "metadata": {},
   "source": [
    "18.: How can you calculate the mean value of a 2D NumPy array arr along the columns (axis=0)?"
   ]
  },
  {
   "cell_type": "code",
   "execution_count": null,
   "id": "d5d0f9ef",
   "metadata": {},
   "outputs": [],
   "source": [
    "Ans :- np.mean(arr, axis=0) "
   ]
  },
  {
   "cell_type": "code",
   "execution_count": 59,
   "id": "29453e7c",
   "metadata": {},
   "outputs": [
    {
     "name": "stdout",
     "output_type": "stream",
     "text": [
      "[2. 3.]\n"
     ]
    }
   ],
   "source": [
    "arr1 = np.array([[1,2],[3,4]])\n",
    "m = np.mean(arr1,axis=0)\n",
    "print(m)"
   ]
  },
  {
   "cell_type": "markdown",
   "id": "fe08b0f0",
   "metadata": {},
   "source": [
    "19.: Which NumPy function is used to calculate the cumulative sum of elements in an array? "
   ]
  },
  {
   "cell_type": "code",
   "execution_count": null,
   "id": "eeef9454",
   "metadata": {},
   "outputs": [],
   "source": [
    "Ans :- np.cumsum() "
   ]
  },
  {
   "cell_type": "code",
   "execution_count": 60,
   "id": "74ba9d19",
   "metadata": {},
   "outputs": [
    {
     "name": "stdout",
     "output_type": "stream",
     "text": [
      "[ 1  3  6 10]\n"
     ]
    }
   ],
   "source": [
    "arr1 = np.array([1, 2, 3, 4])\n",
    "s = np.cumsum(arr1)\n",
    "print(s)"
   ]
  },
  {
   "cell_type": "markdown",
   "id": "210b8874",
   "metadata": {},
   "source": [
    "20.: Given a 2D NumPy array arr, how can you sort the rows based on the values in the second column?"
   ]
  },
  {
   "cell_type": "markdown",
   "id": "cf5d0a2a",
   "metadata": {},
   "source": [
    "Ans :- arr[arr[:, 1].argsort()]"
   ]
  },
  {
   "cell_type": "code",
   "execution_count": 79,
   "id": "ccd54dd2",
   "metadata": {},
   "outputs": [
    {
     "name": "stdout",
     "output_type": "stream",
     "text": [
      "[2 1 0]\n",
      "[[6 2 7]\n",
      " [3 4 1]\n",
      " [2 5 4]]\n"
     ]
    }
   ],
   "source": [
    "arr1 = np.array([[2,5,4],[3,4,1],[6,2,7]])\n",
    "# a = np.sort(arr1)\n",
    "# print(a)\n",
    "\n",
    "sort = np.argsort(arr1[:,1])\n",
    "print(sort)\n",
    "\n",
    "sort_v = arr1[sort]\n",
    "print(sort_v)"
   ]
  },
  {
   "cell_type": "markdown",
   "id": "420bf3f1",
   "metadata": {},
   "source": [
    "21.: Which NumPy function is used to calculate the element-wise exponential of an array? "
   ]
  },
  {
   "cell_type": "markdown",
   "id": "34ce71f3",
   "metadata": {},
   "source": [
    "Ans :- np.exp()"
   ]
  },
  {
   "cell_type": "code",
   "execution_count": 80,
   "id": "fb034b75",
   "metadata": {},
   "outputs": [
    {
     "name": "stdout",
     "output_type": "stream",
     "text": [
      "[ 2.71828183  7.3890561  20.08553692 54.59815003]\n"
     ]
    }
   ],
   "source": [
    "arr1 = np.array([1, 2, 3, 4])\n",
    "e = np.exp(arr1)\n",
    "print(e)"
   ]
  },
  {
   "cell_type": "markdown",
   "id": "0f7b6dd0",
   "metadata": {},
   "source": [
    "22.: Given a 1D NumPy array arr = np.array([3, 1, 4, 2, 5]), what is the result of np.argsort(arr)?"
   ]
  },
  {
   "cell_type": "markdown",
   "id": "5aa79481",
   "metadata": {},
   "source": [
    "Ans :- [1, 3, 0, 2, 4] "
   ]
  },
  {
   "cell_type": "code",
   "execution_count": 82,
   "id": "f08b84f2",
   "metadata": {},
   "outputs": [
    {
     "name": "stdout",
     "output_type": "stream",
     "text": [
      "[1 3 0 2 4]\n",
      "[1 2 3 4 5]\n"
     ]
    }
   ],
   "source": [
    "arr = np.array([3, 1, 4, 2, 5]) #The np.argsort() function in NumPy returns the indices that would sort an array along a \n",
    "a = np.argsort(arr)             #specified axis.\n",
    "print(a)\n",
    "b = arr[a]\n",
    "print(b)"
   ]
  },
  {
   "cell_type": "markdown",
   "id": "1c891d30",
   "metadata": {},
   "source": [
    "23.: How can you calculate the cross product of two 1D NumPy arrays arr1 and arr2?"
   ]
  },
  {
   "cell_type": "markdown",
   "id": "3b925ded",
   "metadata": {},
   "source": [
    "Ans :- np.cross(arr1, arr2)"
   ]
  },
  {
   "cell_type": "code",
   "execution_count": 83,
   "id": "c131dd99",
   "metadata": {},
   "outputs": [
    {
     "name": "stdout",
     "output_type": "stream",
     "text": [
      "[-3  6 -3]\n"
     ]
    }
   ],
   "source": [
    "arr1 = np.array([1, 2, 3])\n",
    "arr2 = np.array([4, 5, 6])\n",
    "\n",
    "a = np.cross(arr1,arr2)\n",
    "print(a)"
   ]
  },
  {
   "cell_type": "markdown",
   "id": "29c4a7bf",
   "metadata": {},
   "source": [
    "24.: Given a 2D NumPy array arr, how can you find the unique rows in the array? "
   ]
  },
  {
   "cell_type": "markdown",
   "id": "b9032ab7",
   "metadata": {},
   "source": [
    "Ans :- np.unique(arr, axis=0) "
   ]
  },
  {
   "cell_type": "code",
   "execution_count": 88,
   "id": "b2da5644",
   "metadata": {},
   "outputs": [
    {
     "name": "stdout",
     "output_type": "stream",
     "text": [
      "[[2 5 4]\n",
      " [3 4 1]\n",
      " [6 2 7]]\n"
     ]
    }
   ],
   "source": [
    "arr1 = np.array([[2,5,4],[3,4,1],[2,5,4],[6,2,7]])\n",
    "u = np.unique(arr1,axis=0)\n",
    "print(u)\n",
    "\n"
   ]
  },
  {
   "cell_type": "markdown",
   "id": "4a5ce518",
   "metadata": {},
   "source": [
    "25.: What is the result of np.random.randint(1, 10, size=(3, 3))? "
   ]
  },
  {
   "cell_type": "markdown",
   "id": "90e2d6ce",
   "metadata": {},
   "source": [
    "Ans :- A 3x3 array with random integers between 1 and 10."
   ]
  },
  {
   "cell_type": "code",
   "execution_count": 90,
   "id": "69944ead",
   "metadata": {},
   "outputs": [
    {
     "name": "stdout",
     "output_type": "stream",
     "text": [
      "[[6 8 7]\n",
      " [5 3 9]\n",
      " [4 4 1]]\n"
     ]
    }
   ],
   "source": [
    "a = np.random.randint(1,10,size=(3,3))\n",
    "print(a)"
   ]
  },
  {
   "cell_type": "markdown",
   "id": "fffb627c",
   "metadata": {},
   "source": [
    "26.: How can you calculate the element-wise square root of a NumPy array arr?"
   ]
  },
  {
   "cell_type": "markdown",
   "id": "609a9b56",
   "metadata": {},
   "source": [
    "Ans :- np.sqrt(arr)"
   ]
  },
  {
   "cell_type": "code",
   "execution_count": 91,
   "id": "c67761b8",
   "metadata": {},
   "outputs": [
    {
     "name": "stdout",
     "output_type": "stream",
     "text": [
      "[1.73205081 1.         2.         1.41421356 2.23606798]\n"
     ]
    }
   ],
   "source": [
    "arr = np.array([3, 1, 4, 2, 5]) \n",
    "s = np.sqrt(arr)\n",
    "print(s)"
   ]
  },
  {
   "cell_type": "markdown",
   "id": "a0fbda37",
   "metadata": {},
   "source": [
    "27.: Given a 1D NumPy array arr, how can you find the indices of elements that are non-zero? "
   ]
  },
  {
   "cell_type": "markdown",
   "id": "2a755b71",
   "metadata": {},
   "source": [
    "Ans :- All of the above"
   ]
  },
  {
   "cell_type": "code",
   "execution_count": 94,
   "id": "f297a3cb",
   "metadata": {},
   "outputs": [
    {
     "name": "stdout",
     "output_type": "stream",
     "text": [
      "(array([0, 1, 3, 4, 6], dtype=int64),)\n",
      "(array([0, 1, 3, 4, 6], dtype=int64),)\n",
      "(array([0, 1, 3, 4, 6], dtype=int64),)\n"
     ]
    }
   ],
   "source": [
    "arr = np.array([3, 1, 0, 2, 5,0,4]) \n",
    "z = np.nonzero(arr)     # show indices of non-zero \n",
    "print(z)\n",
    "\n",
    "z1 = np.where(arr!=0)\n",
    "print(z1)\n",
    "\n",
    "z3 = arr.nonzero()\n",
    "print(z3)"
   ]
  },
  {
   "cell_type": "markdown",
   "id": "b5986821",
   "metadata": {},
   "source": [
    "28.MCQ: How can you calculate the element-wise absolute value of a NumPy array arr?"
   ]
  },
  {
   "cell_type": "code",
   "execution_count": null,
   "id": "09f892f4",
   "metadata": {},
   "outputs": [],
   "source": [
    "Ans :- np.abs(arr)"
   ]
  },
  {
   "cell_type": "code",
   "execution_count": 98,
   "id": "7b37c75d",
   "metadata": {},
   "outputs": [
    {
     "name": "stdout",
     "output_type": "stream",
     "text": [
      "[3 1 4 2 5]\n"
     ]
    }
   ],
   "source": [
    "arr = np.array([-3, 1, 4, -2, 5]) \n",
    "a = np.abs(arr)\n",
    "print(a)\n",
    "\n"
   ]
  },
  {
   "cell_type": "markdown",
   "id": "aa3de42d",
   "metadata": {},
   "source": [
    "29.MCQ: What does the NumPy function np.bincount(arr) do? "
   ]
  },
  {
   "cell_type": "markdown",
   "id": "896fea6f",
   "metadata": {},
   "source": [
    "Ans :- Computes the number of occurrences of each unique element in the array."
   ]
  },
  {
   "cell_type": "code",
   "execution_count": 100,
   "id": "44e4b662",
   "metadata": {},
   "outputs": [
    {
     "name": "stdout",
     "output_type": "stream",
     "text": [
      "[2 1 1 2 2 1]\n"
     ]
    }
   ],
   "source": [
    "arr = np.array([3,1,3,4,0,2,5,0,4]) \n",
    "u = np.bincount(arr)\n",
    "print(u)"
   ]
  },
  {
   "cell_type": "markdown",
   "id": "9b3a932f",
   "metadata": {},
   "source": [
    "30.: Given a 2D NumPy array arr, how can you get the second column as a separate array?"
   ]
  },
  {
   "cell_type": "markdown",
   "id": "87b44bac",
   "metadata": {},
   "source": [
    "Ans :- arr[:, 1] "
   ]
  },
  {
   "cell_type": "code",
   "execution_count": 106,
   "id": "7673e9ca",
   "metadata": {},
   "outputs": [
    {
     "name": "stdout",
     "output_type": "stream",
     "text": [
      "[5 4 5 2]\n"
     ]
    }
   ],
   "source": [
    "arr1 = np.array([[2,5,4],\n",
    "                 [3,4,1],\n",
    "                 [2,5,4],\n",
    "                 [6,2,7]])\n",
    "print(arr1[:,1])"
   ]
  },
  {
   "cell_type": "markdown",
   "id": "f75d42fa",
   "metadata": {},
   "source": [
    "31.MCQ: What is the result of the following code?arr = np.array([10, 20, 30, 40, 50])result = arr[arr > 25]"
   ]
  },
  {
   "cell_type": "markdown",
   "id": "684d4bcc",
   "metadata": {},
   "source": [
    "Ans :- [30, 40, 50]"
   ]
  },
  {
   "cell_type": "code",
   "execution_count": 107,
   "id": "c4f92f3d",
   "metadata": {},
   "outputs": [
    {
     "name": "stdout",
     "output_type": "stream",
     "text": [
      "[30 40 50]\n"
     ]
    }
   ],
   "source": [
    "arr = np.array([10, 20, 30, 40, 50])\n",
    "result = arr[arr > 25]\n",
    "print(result)"
   ]
  },
  {
   "cell_type": "markdown",
   "id": "a6c0d4ac",
   "metadata": {},
   "source": [
    "32.MCQ: How can you create a 2D identity matrix with size 5x5 using NumPy?"
   ]
  },
  {
   "cell_type": "markdown",
   "id": "0b4dcaec",
   "metadata": {},
   "source": [
    "Ans :- np.eye(5)"
   ]
  },
  {
   "cell_type": "code",
   "execution_count": 108,
   "id": "a91ba7d7",
   "metadata": {},
   "outputs": [
    {
     "name": "stdout",
     "output_type": "stream",
     "text": [
      "[[1. 0. 0. 0. 0.]\n",
      " [0. 1. 0. 0. 0.]\n",
      " [0. 0. 1. 0. 0.]\n",
      " [0. 0. 0. 1. 0.]\n",
      " [0. 0. 0. 0. 1.]]\n"
     ]
    }
   ],
   "source": [
    "e = np.eye(5)\n",
    "print(e)"
   ]
  },
  {
   "cell_type": "markdown",
   "id": "df83bec6",
   "metadata": {},
   "source": [
    "33.MCQ: Given two 2D NumPy arrays arr1 and arr2, how can you calculate the element-wise minimum of both arrays?"
   ]
  },
  {
   "cell_type": "markdown",
   "id": "7661faad",
   "metadata": {},
   "source": [
    "Ans :- np.minimum(arr1, arr2) "
   ]
  },
  {
   "cell_type": "code",
   "execution_count": 117,
   "id": "a0de4152",
   "metadata": {},
   "outputs": [
    {
     "name": "stdout",
     "output_type": "stream",
     "text": [
      "[[1 3]\n",
      " [7 8]]\n"
     ]
    }
   ],
   "source": [
    "arr1 = np.array([[1,4],\n",
    "                 [9,10]])\n",
    "arr2 = np.array([[4,3],\n",
    "                 [7,8]])\n",
    "\n",
    "m = np.minimum(arr1,arr2)\n",
    "print(m)"
   ]
  },
  {
   "cell_type": "markdown",
   "id": "f3b21515",
   "metadata": {},
   "source": [
    "34.MCQ: What is the result of the following code? arr = np.array([1, 2, 3])arr = arr.reshape(-1, 1)"
   ]
  },
  {
   "cell_type": "markdown",
   "id": "a08fbc93",
   "metadata": {},
   "source": [
    "Ans :- [[1], [2], [3]]"
   ]
  },
  {
   "cell_type": "code",
   "execution_count": 118,
   "id": "7b51eb67",
   "metadata": {},
   "outputs": [
    {
     "name": "stdout",
     "output_type": "stream",
     "text": [
      "[[1]\n",
      " [2]\n",
      " [3]]\n"
     ]
    }
   ],
   "source": [
    "arr = np.array([1, 2, 3])\n",
    "arr1 = arr.reshape(-1, 1)\n",
    "print(arr1)"
   ]
  },
  {
   "cell_type": "markdown",
   "id": "5c5d343b",
   "metadata": {},
   "source": [
    "35.MCQ: How can you calculate the element-wise exponentiation of a NumPy array arr with a specific base (e.g., 2)?"
   ]
  },
  {
   "cell_type": "markdown",
   "id": "daaa0e6e",
   "metadata": {},
   "source": [
    "Ans :- np.power(arr, 2) "
   ]
  },
  {
   "cell_type": "code",
   "execution_count": 122,
   "id": "97753074",
   "metadata": {},
   "outputs": [
    {
     "name": "stdout",
     "output_type": "stream",
     "text": [
      "[1 4 9]\n"
     ]
    }
   ],
   "source": [
    "arr = np.array([1, 2, 3])\n",
    "e = np.power(arr,2)\n",
    "print(e)"
   ]
  },
  {
   "cell_type": "markdown",
   "id": "1a2d35bb",
   "metadata": {},
   "source": [
    "36.MCQ: Given a 2D NumPy array arr, how can you find the index of the maximum value in the array? "
   ]
  },
  {
   "cell_type": "markdown",
   "id": "20f1e90d",
   "metadata": {},
   "source": [
    "Ans :- np.argmax(arr)"
   ]
  },
  {
   "cell_type": "code",
   "execution_count": 125,
   "id": "7523d023",
   "metadata": {},
   "outputs": [
    {
     "name": "stdout",
     "output_type": "stream",
     "text": [
      "11\n"
     ]
    }
   ],
   "source": [
    "arr1 = np.array([[2,5,4],\n",
    "                 [3,4,1],\n",
    "                 [2,5,4],\n",
    "                 [6,2,7]])\n",
    "m = np.argmax(arr1)\n",
    "print(m)\n"
   ]
  },
  {
   "cell_type": "markdown",
   "id": "ab8cd239",
   "metadata": {},
   "source": [
    "37.MCQ: What does the NumPy function np.meshgrid(arr1, arr2) do?"
   ]
  },
  {
   "cell_type": "markdown",
   "id": "a39e22ca",
   "metadata": {},
   "source": [
    "Ans :-  Creates a grid of points based on two coordinate vectors"
   ]
  },
  {
   "cell_type": "code",
   "execution_count": 126,
   "id": "0954fa86",
   "metadata": {},
   "outputs": [
    {
     "name": "stdout",
     "output_type": "stream",
     "text": [
      "[array([[1, 2, 3],\n",
      "       [1, 2, 3],\n",
      "       [1, 2, 3]]), array([[4, 4, 4],\n",
      "       [5, 5, 5],\n",
      "       [6, 6, 6]])]\n"
     ]
    }
   ],
   "source": [
    "arr1 = np.array([1, 2, 3])\n",
    "arr2 = np.array([4, 5, 6])\n",
    "\n",
    "m = np.meshgrid(arr1,arr2) #The np.meshgrid() function in NumPy is used to create a grid of coordinates from one or more 1D \n",
    "print(m)                  #arrays."
   ]
  },
  {
   "cell_type": "markdown",
   "id": "e75a73fc",
   "metadata": {},
   "source": [
    "38.MCQ: How can you flatten a 2D NumPy array arr into a 1D array?"
   ]
  },
  {
   "cell_type": "markdown",
   "id": "289912bc",
   "metadata": {},
   "source": [
    "Ans :- arr.flatten()"
   ]
  },
  {
   "cell_type": "code",
   "execution_count": 128,
   "id": "7b88f27d",
   "metadata": {},
   "outputs": [
    {
     "name": "stdout",
     "output_type": "stream",
     "text": [
      "[2 5 4 3 4 1 2 5 4 6 2 7]\n"
     ]
    }
   ],
   "source": [
    "arr1 = np.array([[2,5,4],\n",
    "                 [3,4,1],\n",
    "                 [2,5,4],\n",
    "                 [6,2,7]])\n",
    "\n",
    "f = arr1.flatten()\n",
    "print(f)"
   ]
  },
  {
   "cell_type": "markdown",
   "id": "82a7fd41",
   "metadata": {},
   "source": [
    "39.MCQ: Given a 1D NumPy array arr, how can you replace all odd values with -1?"
   ]
  },
  {
   "cell_type": "markdown",
   "id": "bf2aa35d",
   "metadata": {},
   "source": [
    "Ans :- arr[arr % 2 != 0] = -1 "
   ]
  },
  {
   "cell_type": "code",
   "execution_count": 134,
   "id": "baf95649",
   "metadata": {},
   "outputs": [
    {
     "name": "stdout",
     "output_type": "stream",
     "text": [
      "[ 2 -1  4 -1  4 -1  2 -1  4  6  2 -1]\n"
     ]
    }
   ],
   "source": [
    "a = np.array([2,5,4,3,4,1,2,5,4,6,2,7])\n",
    "a[a%2!=0]=-1\n",
    "print(a)\n"
   ]
  },
  {
   "cell_type": "markdown",
   "id": "1568fa81",
   "metadata": {},
   "source": [
    "40.MCQ: How can you calculate the covariance matrix of a 2D NumPy array arr?"
   ]
  },
  {
   "cell_type": "code",
   "execution_count": null,
   "id": "938c1a50",
   "metadata": {},
   "outputs": [],
   "source": [
    "Ans :- np.cov(arr) "
   ]
  },
  {
   "cell_type": "code",
   "execution_count": 137,
   "id": "06135239",
   "metadata": {},
   "outputs": [
    {
     "name": "stdout",
     "output_type": "stream",
     "text": [
      "[[ 2.33333333  0.33333333  2.33333333 -2.5       ]\n",
      " [ 0.33333333  2.33333333  0.33333333 -3.5       ]\n",
      " [ 2.33333333  0.33333333  2.33333333 -2.5       ]\n",
      " [-2.5        -3.5        -2.5         7.        ]]\n"
     ]
    }
   ],
   "source": [
    "arr1 = np.array([[2,5,4],\n",
    "                 [3,4,1],\n",
    "                 [2,5,4],\n",
    "                 [6,2,7]])\n",
    "c = np.cov(arr1)          #The np.cov() function in NumPy is used to compute the covariance matrix of a given array. \n",
    "                    #The covariance matrix provides insights into the linear relationship between variables in the array.\n",
    "print(c)\n"
   ]
  },
  {
   "cell_type": "code",
   "execution_count": null,
   "id": "cbe24332",
   "metadata": {},
   "outputs": [],
   "source": []
  }
 ],
 "metadata": {
  "kernelspec": {
   "display_name": "Python 3 (ipykernel)",
   "language": "python",
   "name": "python3"
  },
  "language_info": {
   "codemirror_mode": {
    "name": "ipython",
    "version": 3
   },
   "file_extension": ".py",
   "mimetype": "text/x-python",
   "name": "python",
   "nbconvert_exporter": "python",
   "pygments_lexer": "ipython3",
   "version": "3.9.12"
  }
 },
 "nbformat": 4,
 "nbformat_minor": 5
}
