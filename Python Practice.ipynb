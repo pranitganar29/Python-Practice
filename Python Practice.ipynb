{
 "cells": [
  {
   "cell_type": "markdown",
   "id": "d36efd74",
   "metadata": {},
   "source": [
    "# Q.1 Write a program to check given number is even or odd ? \n"
   ]
  },
  {
   "cell_type": "code",
   "execution_count": 1,
   "id": "502ae081",
   "metadata": {},
   "outputs": [
    {
     "name": "stdout",
     "output_type": "stream",
     "text": [
      "Enter Number For Check Odd or Even 87\n",
      "87 It is Odd Number\n"
     ]
    }
   ],
   "source": [
    "number = int(input(\"Enter Number For Check Odd or Even \"))\n",
    "if number%2 == 0:\n",
    "    print(str(number) + \" It is Even Number\")\n",
    "else:\n",
    "    print(str(number) + \" It is Odd Number\")"
   ]
  },
  {
   "cell_type": "markdown",
   "id": "e9306875",
   "metadata": {},
   "source": [
    "# Q.2  Write a program to check given character is a vowel or consonant ? \n"
   ]
  },
  {
   "cell_type": "code",
   "execution_count": 2,
   "id": "336db65b",
   "metadata": {},
   "outputs": [
    {
     "name": "stdout",
     "output_type": "stream",
     "text": [
      "Enter Alphabates to check Vowel or Consonant U\n",
      " It is a Vowel\n"
     ]
    }
   ],
   "source": [
    "char = input(\"Enter Alphabates to check Vowel or Consonant \")\n",
    "vowel = ['a','e','i','o','u']\n",
    "char_f = char.lower()\n",
    "if char_f in vowel:\n",
    "    print(\" It is a Vowel\")\n",
    "else:\n",
    "    print(\" It is a Consonant\")"
   ]
  },
  {
   "cell_type": "markdown",
   "id": "4ca26946",
   "metadata": {},
   "source": [
    "# Q.3 Write a program to count vowels and consonants in the string ?\n"
   ]
  },
  {
   "cell_type": "code",
   "execution_count": 3,
   "id": "233564de",
   "metadata": {},
   "outputs": [
    {
     "name": "stdout",
     "output_type": "stream",
     "text": [
      "Enter a word :- AuTo\n",
      "Vowels Counts :-  3\n",
      "Consonants Counts :-  1\n"
     ]
    }
   ],
   "source": [
    "word = input(\"Enter a word :- \")\n",
    "vowel = ['a','e','i','o','u']\n",
    "vo = 0\n",
    "co = 0\n",
    "final = word.lower()\n",
    "for i in final:\n",
    "    if i in vowel:\n",
    "        vo = vo + 1\n",
    "    else:\n",
    "        co = co + 1\n",
    "print(\"Vowels Counts :- \",vo)\n",
    "print(\"Consonants Counts :- \",co)"
   ]
  },
  {
   "cell_type": "markdown",
   "id": "04cd5be4",
   "metadata": {},
   "source": [
    "# Q.4 Write a program to remove spaces from string without inbuilt function ?\n"
   ]
  },
  {
   "cell_type": "code",
   "execution_count": 4,
   "id": "14c1fab2",
   "metadata": {},
   "outputs": [
    {
     "name": "stdout",
     "output_type": "stream",
     "text": [
      "Enter a word Py th on\n",
      "User input :-  Py th on\n",
      "Result :-  Python\n"
     ]
    }
   ],
   "source": [
    "word = input(\"Enter a word \")\n",
    "space = ''\n",
    "for i in word:\n",
    "    if i != ' ':\n",
    "        space = space + i\n",
    "print(\"User input :- \",word)\n",
    "print(\"Result :- \",space)"
   ]
  },
  {
   "cell_type": "code",
   "execution_count": null,
   "id": "c8fe3d47",
   "metadata": {},
   "outputs": [],
   "source": []
  }
 ],
 "metadata": {
  "kernelspec": {
   "display_name": "Python 3 (ipykernel)",
   "language": "python",
   "name": "python3"
  },
  "language_info": {
   "codemirror_mode": {
    "name": "ipython",
    "version": 3
   },
   "file_extension": ".py",
   "mimetype": "text/x-python",
   "name": "python",
   "nbconvert_exporter": "python",
   "pygments_lexer": "ipython3",
   "version": "3.9.12"
  }
 },
 "nbformat": 4,
 "nbformat_minor": 5
}
