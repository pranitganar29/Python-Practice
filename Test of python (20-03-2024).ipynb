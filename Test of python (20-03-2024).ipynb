{
 "cells": [
  {
   "cell_type": "code",
   "execution_count": 43,
   "id": "7eb80710",
   "metadata": {},
   "outputs": [
    {
     "name": "stdout",
     "output_type": "stream",
     "text": [
      "Enter word to check it is palindrome or not area\n",
      "Given word is not palindrome \n"
     ]
    }
   ],
   "source": [
    "# Q.1 Write a Python program to check if a string is a palindrome?\n",
    "\n",
    "word = input('Enter word to check it is palindrome or not ')\n",
    "\n",
    "ip = word[::-1]\n",
    "\n",
    "if word == ip:\n",
    "    print(\"Given word is palindrome \")\n",
    "    \n",
    "else:\n",
    "    print(\"Given word is not palindrome \")\n",
    "            "
   ]
  },
  {
   "cell_type": "code",
   "execution_count": 30,
   "id": "781e96a6",
   "metadata": {},
   "outputs": [
    {
     "name": "stdout",
     "output_type": "stream",
     "text": [
      "Enter number to find out its factorial 3\n",
      "6\n"
     ]
    }
   ],
   "source": [
    "# Q.2 Write a Python program to find the factorial of a number?\n",
    "\n",
    "num = int(input('Enter number to find out its factorial '))\n",
    "fact = 1\n",
    "for i in range (1,num+1):\n",
    "    fact = fact * i\n",
    "print(fact)\n",
    "          "
   ]
  },
  {
   "cell_type": "code",
   "execution_count": 40,
   "id": "f6d17cea",
   "metadata": {},
   "outputs": [
    {
     "name": "stdout",
     "output_type": "stream",
     "text": [
      "Enter a size of list 3\n",
      "Enter Numbers 12\n",
      "Enter Numbers 15\n",
      "Enter Numbers 11\n",
      "[12, 15, 11]\n",
      "Maximun number of given list is  15\n"
     ]
    }
   ],
   "source": [
    "# Q.3 Write a Python program to find the largest element in a list?\n",
    "size = int(input('Enter a size of list '))\n",
    "list_num = []\n",
    "for i in range (size):\n",
    "    numbers = int(input('Enter Numbers '))\n",
    "    list_num.append(numbers)\n",
    "print(list_num)\n",
    "\n",
    "num = 1\n",
    "for j in list_num:\n",
    "    if num < j:\n",
    "        num = j\n",
    "print(\"Maximun number of given list is \",num)"
   ]
  },
  {
   "cell_type": "code",
   "execution_count": 44,
   "id": "c87d4994",
   "metadata": {},
   "outputs": [
    {
     "name": "stdout",
     "output_type": "stream",
     "text": [
      "Enter any word for reverse area\n",
      "Result aera\n"
     ]
    }
   ],
   "source": [
    "# Q.4  Write a Python program to reverse a string?\n",
    "\n",
    "string = input('Enter any word for reverse ')\n",
    "output = string[::-1]\n",
    "print('Result',output)"
   ]
  },
  {
   "cell_type": "code",
   "execution_count": 47,
   "id": "a37fd1fe",
   "metadata": {},
   "outputs": [
    {
     "name": "stdout",
     "output_type": "stream",
     "text": [
      "Enter a size of list 5\n",
      "Enter Numbers 20\n",
      "Enter Numbers 32\n",
      "Enter Numbers 32\n",
      "Enter Numbers 32\n",
      "Enter Numbers 20\n",
      "[20, 32, 32, 32, 20]\n",
      "Enter number to check frequency 32\n",
      "Frequency of 32 is 3\n"
     ]
    }
   ],
   "source": [
    "# Q.5 Write a Python program to count the frequency of each element in a list?\n",
    "\n",
    "size = int(input('Enter a size of list '))\n",
    "list_num = []\n",
    "for i in range (size):\n",
    "    numbers = int(input('Enter Numbers '))\n",
    "    list_num.append(numbers)\n",
    "print(list_num)\n",
    "\n",
    "f = int(input('Enter number to check frequency '))\n",
    "count = list_num.count(f)\n",
    "print('Frequency of '+str(f)+ ' is',count)\n",
    "    "
   ]
  },
  {
   "cell_type": "code",
   "execution_count": 71,
   "id": "826b4bfd",
   "metadata": {},
   "outputs": [
    {
     "name": "stdout",
     "output_type": "stream",
     "text": [
      "Enter number to check is it prime or not 5\n",
      "5 is a prime number\n"
     ]
    }
   ],
   "source": [
    "# Q.6 Write a Python program to check if a number is prime? \n",
    "\n",
    "import math\n",
    "\n",
    "def get_prime(n):\n",
    "    n2 = math.sqrt(n)\n",
    "    for i in range (2,int(n2)+1):\n",
    "        if n % i == 0:\n",
    "            return False\n",
    "    return True\n",
    "    \n",
    "n = int(input('Enter number to check is it prime or not '))\n",
    "\n",
    "if get_prime(n):\n",
    "    print(str(n)+' is a prime number')\n",
    "\n",
    "else:\n",
    "    print(str(n)+' is not prime number')\n",
    "    \n",
    "        \n",
    "        "
   ]
  },
  {
   "cell_type": "code",
   "execution_count": 3,
   "id": "99d8ab7c",
   "metadata": {},
   "outputs": [
    {
     "name": "stdout",
     "output_type": "stream",
     "text": [
      "Enter a size of first list 5\n",
      "Enter Numbers 12\n",
      "Enter Numbers 15\n",
      "Enter Numbers 14\n",
      "Enter Numbers 10\n",
      "Enter Numbers 15\n",
      "Enter a size of second list 4\n",
      "Enter Numbers 10\n",
      "Enter Numbers 12\n",
      "Enter Numbers 14\n",
      "Enter Numbers 20\n",
      "[12, 15, 14, 10, 15]\n",
      "[10, 12, 14, 20]\n",
      "Common Element in above both list  [12, 14, 10]\n"
     ]
    }
   ],
   "source": [
    "# Q.7 Write a Python program to find the common elements between two lists?\n",
    "\n",
    "size_of_first_list = int(input('Enter a size of first list '))\n",
    "first_list_num = []\n",
    "for i in range (size_of_first_list):\n",
    "    numbers = int(input('Enter Numbers '))\n",
    "    first_list_num.append(numbers)\n",
    "# print(first_list_num)\n",
    "\n",
    "size_of_second_list = int(input('Enter a size of second list '))\n",
    "second_list_num = []\n",
    "for j in range (size_of_second_list):\n",
    "    numbers = int(input('Enter Numbers '))\n",
    "    second_list_num.append(numbers)\n",
    "# print(second_list_num)\n",
    "\n",
    "print(first_list_num)\n",
    "print(second_list_num)\n",
    "\n",
    "common_element = []\n",
    "for k in first_list_num:\n",
    "    for l in second_list_num:\n",
    "        if k == l:\n",
    "            common_element.append(k)\n",
    "            \n",
    "print('Common Element in above both list ',common_element)"
   ]
  },
  {
   "cell_type": "code",
   "execution_count": 9,
   "id": "c392a8f9",
   "metadata": {},
   "outputs": [
    {
     "name": "stdout",
     "output_type": "stream",
     "text": [
      "Enter a size of list 5\n",
      "Enter Numbers 10\n",
      "Enter Numbers 12\n",
      "Enter Numbers 15\n",
      "Enter Numbers 9\n",
      "Enter Numbers 11\n",
      "[10, 12, 15, 9, 11]\n",
      "[10, 12, 9, 15, 11]\n",
      "[10, 12, 9, 11, 15]\n",
      "[10, 9, 12, 11, 15]\n",
      "[10, 9, 11, 12, 15]\n",
      "[9, 10, 11, 12, 15]\n"
     ]
    }
   ],
   "source": [
    "# Q.8 Write a Python program to sort a list of elements using the bubble sort algorithm?\n",
    "\n",
    "\n",
    "size_of_list = int(input('Enter a size of list '))\n",
    "list_num = []\n",
    "for i in range (size_of_list):\n",
    "    numbers = int(input('Enter Numbers '))\n",
    "    list_num.append(numbers)\n",
    "print(list_num)\n",
    "\n",
    "for i in range (size_of_list):\n",
    "    for j in range (0,size_of_list-i-1):\n",
    "        if list_num[j] > list_num[j+1]:\n",
    "            list_num[j], list_num[j+1] = list_num[j+1], list_num[j]\n",
    "            print(list_num)\n",
    "\n",
    "            "
   ]
  },
  {
   "cell_type": "code",
   "execution_count": 20,
   "id": "29e8c84c",
   "metadata": {},
   "outputs": [
    {
     "name": "stdout",
     "output_type": "stream",
     "text": [
      "Enter a size of list 5\n",
      "Enter Numbers 10\n",
      "Enter Numbers 12\n",
      "Enter Numbers 15\n",
      "Enter Numbers 13\n",
      "Enter Numbers 14\n",
      "[10, 12, 15, 13, 14]\n",
      "Second Largest Number is  14\n"
     ]
    }
   ],
   "source": [
    "# Q.9 Write a Python program to find the second largest number in a list?\n",
    "\n",
    "size_of_list = int(input('Enter a size of list '))\n",
    "list_num = []\n",
    "for i in range (size_of_list):\n",
    "    numbers = int(input('Enter Numbers '))\n",
    "    list_num.append(numbers)\n",
    "print(list_num)\n",
    "\n",
    "large = list_num[0]\n",
    "\n",
    "second_large = 0\n",
    "for i in list_num:\n",
    "    if i > large:\n",
    "        second_large = large\n",
    "        large = i\n",
    "    elif i > second_large and i != large:\n",
    "        second_large = i\n",
    "\n",
    "print(\"Second Largest Number is \",second_large)\n",
    "\n",
    "    "
   ]
  },
  {
   "cell_type": "code",
   "execution_count": 21,
   "id": "d90e30d1",
   "metadata": {},
   "outputs": [
    {
     "name": "stdout",
     "output_type": "stream",
     "text": [
      "Enter a size of list 5\n",
      "Enter Numbers 12\n",
      "Enter Numbers 15\n",
      "Enter Numbers 12\n",
      "Enter Numbers 10\n",
      "Enter Numbers 10\n",
      "[12, 15, 12, 10, 10]\n",
      "[12, 15, 10]\n"
     ]
    }
   ],
   "source": [
    "# Q.10 Write a Python program to remove duplicates from a list?\n",
    "\n",
    "size_of_list = int(input('Enter a size of list '))\n",
    "list_num = []\n",
    "for i in range (size_of_list):\n",
    "    numbers = int(input('Enter Numbers '))\n",
    "    list_num.append(numbers)\n",
    "print(list_num)\n",
    "\n",
    "duplicate = []\n",
    "for i in list_num:\n",
    "    if i not in duplicate:\n",
    "        duplicate.append(i)\n",
    "        \n",
    "print(duplicate)\n",
    "    "
   ]
  },
  {
   "cell_type": "code",
   "execution_count": 22,
   "id": "5e62b0af",
   "metadata": {},
   "outputs": [],
   "source": [
    "# Q.11 What is Python?How do you comment in Python?\n",
    "\n",
    "# Python :- Python is a general purpous, high level, interpreted programming language which was invented in 1991 by Guido Van \n",
    "#           Rossum\n",
    "            \n",
    "# Comment :- We have use \"#\" symbol to denote a comment in python."
   ]
  },
  {
   "cell_type": "code",
   "execution_count": 23,
   "id": "f3252936",
   "metadata": {},
   "outputs": [],
   "source": [
    "# Q.12 What are the key features of Python?\n",
    "\n",
    "# (1). Simplicity and Readability: Easy-to-learn syntax and readability.\n",
    "# (2). Expressive: Concise code that expresses ideas clearly.\n",
    "# (3). Interpreted and Interactive: Executes code line by line and supports interactive debugging.\n",
    "# (4). Cross-platform: Runs on various operating systems without modification.\n",
    "# (5). Dynamically Typed: Variable types are determined at runtime."
   ]
  },
  {
   "cell_type": "code",
   "execution_count": 24,
   "id": "58c3a5e3",
   "metadata": {},
   "outputs": [
    {
     "name": "stdout",
     "output_type": "stream",
     "text": [
      "[1, 2, 3, 4]\n",
      "(1, 2, 3, 4)\n"
     ]
    }
   ],
   "source": [
    "# Q.13 Explain the difference between a list and a tuple?What is the purpose of the ‘self’ parameter in Python?\n",
    "\n",
    "# List :- (1). Lists are mutable, meaning their elements can be changed after the list is created. \n",
    "#              You can add, remove, or modify elements of a list.\n",
    "#         (2). Lists are enclosed in square brackets [], and elements are separated by commas. For example: [1, 2, 3, 4]\n",
    "#         (3). Lists, being mutable, may require more memory\n",
    "#         (4). Lists are suitable for collections of items where the order or the elements may need to change, \n",
    "#              or where elements may need to be added or removed dynamically.\n",
    "#         (5). lists can be iterated over using loops or comprehensions.\n",
    "my_list = [1, 2, 3, 4]\n",
    "print(my_list)\n",
    "\n",
    "# Tuple :- (1). Tuples are immutable, meaning once they are created, their elements cannot be changed. \n",
    "#               You cannot add, remove, or modify elements of a tuple. \n",
    "#          (2). Tuples are enclosed in parentheses (), and elements are separated by commas. For example: (1, 2, 3, 4)\n",
    "#          (3). Tuples are generally faster than lists because they are immutable. \n",
    "#          (4). Tuples are often used for fixed collections of items that are not intended to change, \n",
    "#               such as coordinates, database records, or function arguments.\n",
    "#          (5). Tuples can be iterated over using loops or comprehensions. \n",
    "#               iteration over tuples tends to be slightly faster than over lists.\n",
    "my_tuple = (1, 2, 3, 4)\n",
    "print(my_tuple)\n",
    "\n",
    "# the self parameter in Python is used :-\n",
    "# (1). To reference the instance of the class within its methods.\n",
    "# (2). Automatically by Python when calling methods on object instances.\n",
    "# (3). For clarity and readability, indicating that the method belongs to a specific instance of the class.\n",
    "\n"
   ]
  },
  {
   "cell_type": "code",
   "execution_count": 25,
   "id": "09ba7a13",
   "metadata": {},
   "outputs": [],
   "source": [
    "# Q.14 What is a module in Python?\n",
    "\n",
    "#  A module in Python is a file containing Python code that can be imported into other Python scripts. \n",
    "# Modules help organize and reuse code, provide namespaces to avoid naming conflicts, and extend Python's functionality through\n",
    "# the standard library or third-party packages.\n",
    "# These files typically have a .py extension and can be imported into other Python scripts or programs. \n",
    "\n"
   ]
  },
  {
   "cell_type": "code",
   "execution_count": 26,
   "id": "e56f5d56",
   "metadata": {},
   "outputs": [],
   "source": [
    "# Q.15 How do you handle exceptions in Python?\n",
    "\n",
    "# In Python, exceptions are handled using try, except, else, and finally blocks.\n",
    "# Wrap the code that may raise an exception in a try block.\n",
    "# Use except blocks to specify how to handle specific exceptions.\n",
    "# Optionally, use an else block to execute code when no exceptions occur.\n",
    "# Optionally, use a finally block to execute cleanup code that always runs, regardless of whether an exception occurred."
   ]
  },
  {
   "cell_type": "code",
   "execution_count": 27,
   "id": "99c0c203",
   "metadata": {},
   "outputs": [],
   "source": [
    "# Q16 What is the purpose of the ‘if name == “main”’ statement?\n",
    "\n",
    "# the if __name__ == \"__main__\": statement in Python allows code to be executed only when the script is run directly, not when \n",
    "# it's imported as a module into another script. It serves as a way to control the execution of code based on whether the script\n",
    "# is the main program or imported as a module."
   ]
  },
  {
   "cell_type": "code",
   "execution_count": 32,
   "id": "dc6f5bdd",
   "metadata": {},
   "outputs": [
    {
     "name": "stdout",
     "output_type": "stream",
     "text": [
      "[1, 2, 3, 4, [5, 6]]\n",
      "[1, 2, 3, 5, 6]\n"
     ]
    }
   ],
   "source": [
    "# Q.17 Explain the difference between ‘append()’ and ‘extend()’ methods for lists?\n",
    "\n",
    "# append():\n",
    "\n",
    "# (1). The append() method is used to add a single element to the end of the list.\n",
    "# (2). It takes one argument, which is the element to be added.\n",
    "# (3). If the argument is a list or any iterable, it adds the entire iterable as a single element at the end of the list.\n",
    "\n",
    "List = [1, 2, 3]\n",
    "List.append(4)\n",
    "# print(List)\n",
    "List.append([5,6])\n",
    "print(List)\n",
    "\n",
    "# extend():\n",
    "\n",
    "# (1). The extend() method is used to add multiple elements to the end of the list.\n",
    "# (2). It takes one argument, which is an iterable (such as a list, tuple, or string) containing the elements to be added.\n",
    "# (3). It adds each element from the iterable individually to the end of the list.\n",
    "\n",
    "List1 = [1, 2, 3]\n",
    "List1.extend([5,6])\n",
    "print(List1)"
   ]
  },
  {
   "cell_type": "code",
   "execution_count": 33,
   "id": "44b5db84",
   "metadata": {},
   "outputs": [
    {
     "name": "stdout",
     "output_type": "stream",
     "text": [
      "10\n",
      "The value is: 10\n"
     ]
    }
   ],
   "source": [
    "# Q.18 What is the ‘str’ function used for in Python?\n",
    "\n",
    "# The str() function in Python is used to convert non-string objects into string representations. \n",
    "# It's commonly used for concatenation, string formatting, and obtaining string representations of objects for debugging or \n",
    "# logging purposes.\n",
    "\n",
    "num = 10\n",
    "str_num = str(num)\n",
    "print(str_num)  \n",
    "\n",
    "message = \"The value is: \" + str(num)\n",
    "print(message)  \n",
    "\n"
   ]
  },
  {
   "cell_type": "code",
   "execution_count": 36,
   "id": "c7012720",
   "metadata": {},
   "outputs": [
    {
     "name": "stdout",
     "output_type": "stream",
     "text": [
      "[4, 2, 3]\n"
     ]
    }
   ],
   "source": [
    "# Q.19 Explain the difference between mutable and immutable data types in Python?\n",
    "\n",
    "# Mutable Data Types:\n",
    "\n",
    "# (1). Mutable data types are those whose values can be modified after creation.\n",
    "# (2). This means that you can change the content of the object without changing its identity (memory location).\n",
    "# (3). Examples of mutable data types in Python include lists, dictionaries, and sets.\n",
    "\n",
    "list2 = [1, 2, 3]\n",
    "list2[0] = 4  \n",
    "print(list2)  \n",
    "\n",
    "# Immutable Data Types:\n",
    "\n",
    "# (1). Immutable data types are those whose values cannot be changed after creation.\n",
    "# (2). Once an immutable object is created, its content cannot be modified. Any operation that appears to modify the object \n",
    "#      actually creates a new object with the modified value.\n",
    "# (3). Examples of immutable data types in Python include integers, floats, strings, tuples, and frozensets.\n",
    "\n",
    "# string = \"hello\"\n",
    "# string[0] = 'H'  \n",
    "\n"
   ]
  },
  {
   "cell_type": "code",
   "execution_count": 39,
   "id": "7fc21dfa",
   "metadata": {},
   "outputs": [
    {
     "name": "stdout",
     "output_type": "stream",
     "text": [
      "[[1, 2, 3], [4, 5, 6]]\n",
      "[[1, 2, 3], [4, 5, 6]]\n"
     ]
    }
   ],
   "source": [
    "# Q.20 How do you perform a shallow copy and a deep copy of a list in Python?\n",
    "\n",
    "# Shallow Copy:\n",
    "\n",
    "# A shallow copy creates a new list object, but it doesn't create copies of the nested objects (e.g., nested lists). \n",
    "# Instead, it copies references to the nested objects.\n",
    "# Shallow copy can be performed using the copy() method of lists or by using list slicing with [:].\n",
    "\n",
    "import copy\n",
    "\n",
    "# Using copy() method\n",
    "original_list = [[1, 2, 3], [4, 5, 6]]\n",
    "shallow_copy = original_list.copy()\n",
    "\n",
    "# Using list slicing\n",
    "shallow_copy = original_list[:]\n",
    "\n",
    "print(shallow_copy)\n",
    "\n",
    "# Deep Copy:\n",
    "\n",
    "# A deep copy creates a new list object as well as copies of all the nested objects recursively. This means that any changes\n",
    "# made to the original object will not affect the copied object, and vice versa.\n",
    "# Deep copy can be performed using the deepcopy() function from the copy module.\n",
    "\n",
    "original_list = [[1, 2, 3], [4, 5, 6]]\n",
    "deep_copy = copy.deepcopy(original_list)\n",
    "\n",
    "print(deep_copy)"
   ]
  },
  {
   "cell_type": "code",
   "execution_count": 2,
   "id": "dc14de97",
   "metadata": {},
   "outputs": [
    {
     "name": "stdout",
     "output_type": "stream",
     "text": [
      "True\n",
      "False\n",
      "True\n",
      "True\n"
     ]
    }
   ],
   "source": [
    "# Q.21 What is a decorator in Python?Explain the difference between ‘==’, ‘is’, and ‘in’ operators.\n",
    "\n",
    "# Decorator :-\n",
    "# In Python, decorators are a powerful tool used to modify or extend the behavior of functions or classes. \n",
    "# They allow you to add functionality to existing code without modifying its structure. Decorators are implemented using the\n",
    "# @ symbol followed by the decorator function's name, placed above the function definition.\n",
    "\n",
    "# == (Equality Operator):\n",
    "\n",
    "# (1). The == operator is used to compare the values of two objects to check if they are equal.\n",
    "# (2). It compares the values of the objects, not their memory locations.\n",
    "# (3). It returns True if the values of the two operands are equal, otherwise False.\n",
    "\n",
    "x = 5\n",
    "y = 5\n",
    "print(x == y) \n",
    "\n",
    "# is (Identity Operator):\n",
    "\n",
    "# (1). The is operator is used to check if two variables refer to the same object in memory.\n",
    "# (2). It checks if the memory address of the two objects is the same.\n",
    "# (3). It returns True if both variables point to the same object, otherwise False.\n",
    "\n",
    "list1 = [1, 2, 3]\n",
    "list2 = [1, 2, 3]\n",
    "list3 = list1\n",
    "print(list1 is list2)  \n",
    "print(list1 is list3)\n",
    "\n",
    "# in (Membership Operator):\n",
    "\n",
    "# (1). The in operator is used to check if a value exists in a sequence (like strings, lists, tuples, or dictionaries).\n",
    "# (2). It returns True if the value is found in the sequence, otherwise False.\n",
    "\n",
    "my_list = [1, 2, 3, 4, 5]\n",
    "print(3 in my_list)  \n"
   ]
  },
  {
   "cell_type": "code",
   "execution_count": 4,
   "id": "f54dc6c7",
   "metadata": {},
   "outputs": [
    {
     "name": "stdout",
     "output_type": "stream",
     "text": [
      "123\n"
     ]
    }
   ],
   "source": [
    "# Q.22 How can you convert a string to an integer in Python?\n",
    "\n",
    "# In Python, you can convert a string to an integer using the int() function. \n",
    "\n",
    "string_number = \"123\"\n",
    "integer_number = int(string_number)\n",
    "print(integer_number) \n"
   ]
  },
  {
   "cell_type": "code",
   "execution_count": 5,
   "id": "d51c5523",
   "metadata": {},
   "outputs": [],
   "source": [
    "# Q.23 What is the purpose of the ‘pass’ statement in Python?\n",
    "\n",
    "\n",
    "# the pass statement in Python is used as a placeholder where syntax requires a statement but no action is needed. \n",
    "# It's often used in empty code blocks or as a placeholder for code that will be implemented later."
   ]
  },
  {
   "cell_type": "code",
   "execution_count": 6,
   "id": "c7ebd3d4",
   "metadata": {},
   "outputs": [
    {
     "name": "stdout",
     "output_type": "stream",
     "text": [
      "0\n",
      "1\n",
      "2\n",
      "3\n",
      "4\n"
     ]
    }
   ],
   "source": [
    "# Q.24 What is the purpose of the ‘range()’ function?\n",
    "\n",
    "# The range() function in Python is used to generate a sequence of numbers. \n",
    "# It's commonly used in looping constructs such as for loops to iterate a specific number of times.\n",
    "\n",
    "# The general syntax of the range() function is: range(start, stop, step)\n",
    "\n",
    "for i in range(5):\n",
    "    print(i)\n"
   ]
  },
  {
   "cell_type": "code",
   "execution_count": 7,
   "id": "4d77038f",
   "metadata": {},
   "outputs": [],
   "source": [
    "# Q.25 What is a lambda function?\n",
    "\n",
    "# A lambda function in Python is an anonymous function defined using the lambda keyword. It's useful for creating small, \n",
    "# one-off functions without using the def keyword. Lambda functions can take any number of arguments but can only have one \n",
    "# expression. They're commonly used with higher-order functions or in situations where a short function is needed temporarily."
   ]
  },
  {
   "cell_type": "code",
   "execution_count": 8,
   "id": "8a57ce42",
   "metadata": {},
   "outputs": [
    {
     "name": "stdout",
     "output_type": "stream",
     "text": [
      "H\n",
      "o\n",
      "[2, 3, 4]\n",
      "[1, 2, 3]\n",
      "[1, 3, 5]\n"
     ]
    }
   ],
   "source": [
    "# Q.26 Explain indexing and slicing in Python?\n",
    "\n",
    "# Indexing:\n",
    "\n",
    "# Indexing refers to accessing individual elements within a sequence by their position or index.\n",
    "# In Python, indexing starts from 0 for the first element, 1 for the second element, and so on.\n",
    "# Negative indices can also be used, where -1 refers to the last element, -2 refers to the second-to-last element, and so forth.\n",
    "\n",
    "my_string = \"Hello\"\n",
    "print(my_string[0])   \n",
    "print(my_string[-1])  \n",
    "\n",
    "# Slicing:\n",
    "\n",
    "# Slicing allows you to extract a portion of a sequence using a specified range of indices.\n",
    "# The syntax for slicing is sequence[start:end:step].\n",
    "# start: The index where the slice starts (inclusive). If not provided, it defaults to 0.\n",
    "# end: The index where the slice ends (exclusive). If not provided, it defaults to the end of the sequence.\n",
    "# step: The step or increment between elements in the slice. If not provided, it defaults to 1.\n",
    "# Slicing returns a new sequence containing the specified elements.\n",
    "\n",
    "my_list = [1, 2, 3, 4, 5]\n",
    "print(my_list[1:4])    \n",
    "print(my_list[:3])      \n",
    "print(my_list[::2])     \n"
   ]
  },
  {
   "cell_type": "code",
   "execution_count": 9,
   "id": "f8eb1fda",
   "metadata": {},
   "outputs": [
    {
     "name": "stdout",
     "output_type": "stream",
     "text": [
      "[5, 4, 3, 2, 1]\n",
      "[5, 4, 3, 2, 1]\n"
     ]
    }
   ],
   "source": [
    "# Q.27 How can you reverse a list in Python?\n",
    "\n",
    "# Using the reverse() method: List_Name.reverse()\n",
    "my_list = [1, 2, 3, 4, 5]\n",
    "my_list.reverse()\n",
    "print(my_list) \n",
    "\n",
    "# Using slicing:\n",
    "list1 = [1, 2, 3, 4, 5]\n",
    "reversed_list = list1[::-1]\n",
    "print(reversed_list)  \n"
   ]
  },
  {
   "cell_type": "code",
   "execution_count": 10,
   "id": "f16254d0",
   "metadata": {},
   "outputs": [
    {
     "name": "stdout",
     "output_type": "stream",
     "text": [
      "3\n",
      "[1, 2, 4, 5]\n",
      "[1, 2, 4, 5]\n"
     ]
    }
   ],
   "source": [
    "# Q.28 What is the difference between ‘pop()’ and ‘remove()’ methods for lists?\n",
    "\n",
    "# pop() method:\n",
    "\n",
    "# (1). The pop() method removes and returns the element at the specified index (by default, the last element if no index is \n",
    "#      specified) from the list.\n",
    "# (2). It modifies the original list by removing the specified element.\n",
    "# (3). If you provide an index to pop(), it removes the element at that index and returns it.\n",
    "# (4). If no index is specified, it removes and returns the last element of the list.\n",
    "\n",
    "my_list = [1, 2, 3, 4, 5]\n",
    "popped_element = my_list.pop(2)\n",
    "print(popped_element)  \n",
    "print(my_list)         \n",
    "\n",
    "# remove() method:\n",
    "\n",
    "# (1). The remove() method removes the first occurrence of a specified value from the list.\n",
    "# (2). It modifies the original list by removing the specified value.\n",
    "# (3). It does not return the removed element; it only modifies the list in place.\n",
    "# (4). If the specified value is not found in the list, it raises a ValueError.\n",
    "\n",
    "my_list = [1, 2, 3, 4, 5]\n",
    "my_list.remove(3)\n",
    "print(my_list)  \n"
   ]
  },
  {
   "cell_type": "code",
   "execution_count": 11,
   "id": "536ec343",
   "metadata": {},
   "outputs": [
    {
     "name": "stdout",
     "output_type": "stream",
     "text": [
      "{1, 2, 3, 4}\n",
      "frozenset({1, 2, 3})\n"
     ]
    }
   ],
   "source": [
    "# Q.29 What is a set in Python?Difference between frozenset or NormalSet ?\n",
    "\n",
    "# In Python, a set is an unordered collection of unique elements. \n",
    "# Sets are mutable, which means you can add or remove elements from them, but they do not support duplicate elements. \n",
    "# Sets are defined using curly braces {} and can contain various immutable data types such as numbers, strings, and tuples.\n",
    "\n",
    "# Normal Set:\n",
    "\n",
    "# (1). Normal sets, created using curly braces {}, are mutable. This means you can add or remove elements from them after \n",
    "#      creation.\n",
    "# (2). Normal sets support operations that modify the set, such as adding elements with add() or update(), removing elements \n",
    "#      with remove() or discard(), and performing other set operations that modify the set in place.\n",
    "\n",
    "normal_set = {1, 2, 3}\n",
    "normal_set.add(4)\n",
    "print(normal_set)\n",
    "\n",
    "# Frozenset:\n",
    "\n",
    "# (1). Frozensets, created using the frozenset() constructor, are immutable. Once created, the elements within a frozenset \n",
    "#      cannot be changed, added, or removed.\n",
    "# (2). Frozensets support operations that do not modify the set, such as checking for membership with in, performing set \n",
    "#      operations like union, intersection, and difference, and iterating over the elements.\n",
    "# (3). Frozensets are hashable, meaning they can be used as elements in other sets or as keys in dictionaries.\n",
    "\n",
    "frozenset1 = frozenset({1, 2, 3})\n",
    "# frozenset1.add(4)\n",
    "print(frozenset1)"
   ]
  },
  {
   "cell_type": "code",
   "execution_count": 12,
   "id": "a2e9efd8",
   "metadata": {},
   "outputs": [
    {
     "name": "stdout",
     "output_type": "stream",
     "text": [
      "{1: 1, 2: 4, 3: 9, 4: 16, 5: 25}\n"
     ]
    }
   ],
   "source": [
    "# Q.30 What is a dictionary comprehension in Python?\n",
    "\n",
    "# A dictionary comprehension in Python is a concise and efficient way to create dictionaries using a single line of code. \n",
    "# It is similar to list comprehensions but produces dictionaries instead of lists. \n",
    "# Dictionary comprehensions provide a compact syntax for generating dictionaries from iterable objects such as lists, tuples, \n",
    "# or other dictionaries.\n",
    "\n",
    "# The syntax for dictionary comprehension is: {key_expression: value_expression for item in iterable}\n",
    "\n",
    "square_dict = {x: x**2 for x in range(1, 6)}\n",
    "print(square_dict)  "
   ]
  },
  {
   "cell_type": "code",
   "execution_count": 13,
   "id": "8ca999f3",
   "metadata": {},
   "outputs": [
    {
     "name": "stdout",
     "output_type": "stream",
     "text": [
      "Hello world Python\n"
     ]
    }
   ],
   "source": [
    "# Q.31 How can you convert a list of strings to a single string in Python?\n",
    "\n",
    "# You can convert a list of strings to a single string in Python by using the join() method. \n",
    "# The join() method concatenates all the strings in the list together, separated by a specified delimiter, \n",
    "# and returns the resulting string.\n",
    "\n",
    "\n",
    "list_of_strings = [\"Hello\", \"world\", \"Python\"]\n",
    "\n",
    "single_string = \" \".join(list_of_strings)\n",
    "print(single_string) \n"
   ]
  },
  {
   "cell_type": "code",
   "execution_count": 14,
   "id": "d50ee013",
   "metadata": {},
   "outputs": [
    {
     "name": "stdout",
     "output_type": "stream",
     "text": [
      "13\n"
     ]
    }
   ],
   "source": [
    "# Q.32 How can you find the length of a string in Python?\n",
    "\n",
    "# In Python, you can find the length of a string using the built-in function len(). \n",
    "# The len() function returns the number of characters in the string, including spaces and special characters.\n",
    "\n",
    "my_string = \"Hello, World!\"\n",
    "length = len(my_string)\n",
    "print(length)  \n"
   ]
  },
  {
   "cell_type": "code",
   "execution_count": 15,
   "id": "0d857cb7",
   "metadata": {},
   "outputs": [
    {
     "name": "stdout",
     "output_type": "stream",
     "text": [
      "HELLO, WORLD!\n",
      "hello, world!\n"
     ]
    }
   ],
   "source": [
    "# Q.33 How can you convert a string to uppercase and lowercase in Python?\n",
    "\n",
    "# In Python, you can convert a string to uppercase and lowercase using the upper() and lower() string methods, respectively. \n",
    "\n",
    "# Use the upper() method to convert all characters in the string to uppercase.\n",
    "# Use the lower() method to convert all characters in the string to lowercase.\n",
    "\n",
    "my_string = \"Hello, World!\"\n",
    "uppercase_string = my_string.upper()\n",
    "lowercase_string = my_string.lower()\n",
    "print(uppercase_string)\n",
    "print(lowercase_string)"
   ]
  },
  {
   "cell_type": "code",
   "execution_count": 16,
   "id": "d04aebba",
   "metadata": {},
   "outputs": [
    {
     "name": "stdout",
     "output_type": "stream",
     "text": [
      "[1, 2, 3, 4, 5]\n",
      "[1, 2, 3, 4, 5]\n"
     ]
    }
   ],
   "source": [
    "# Q.34 How can you remove duplicates from a list in Python?\n",
    "\n",
    "# Using Sets:\n",
    "\n",
    "# Convert the list to a set, which automatically removes duplicates, then convert it back to a list.\n",
    "my_list = [1, 2, 3, 2, 4, 5, 3]\n",
    "unique_list = list(set(my_list))\n",
    "print(unique_list)\n",
    "\n",
    "# Using List Comprehension:\n",
    "\n",
    "# Use a list comprehension to iterate over the original list while keeping only the unique elements.\n",
    "my_list = [1, 2, 3, 2, 4, 5, 3]\n",
    "unique_list = [x for i, x in enumerate(my_list) if my_list.index(x) == i]\n",
    "print(unique_list)  \n"
   ]
  },
  {
   "cell_type": "code",
   "execution_count": 17,
   "id": "8215da5e",
   "metadata": {},
   "outputs": [
    {
     "name": "stdout",
     "output_type": "stream",
     "text": [
      "0.7598522827034442\n",
      "1\n",
      "cherry\n",
      "[2, 5, 4, 3, 1]\n"
     ]
    }
   ],
   "source": [
    "# Q.35 Explain the purpose of the ‘random’ module in Python?\n",
    "\n",
    "# The random module in Python provides functions for generating random numbers, as well as performing random selections and \n",
    "# shuffling sequences. \n",
    "\n",
    "# (1). generating random numbers\n",
    "# Using random.random() function generate a random floating-point number between 0 and 1\n",
    "# Using random.randint() function generates a random integer within a specified range, inclusive of both endpoints.\n",
    "\n",
    "import random\n",
    "random_number = random.random()\n",
    "print(random_number)\n",
    "\n",
    "random_integer = random.randint(1, 10)\n",
    "print(random_integer) \n",
    "\n",
    "# (2). performing random selections\n",
    "# Using random.choice() function randomly selects an element from a non-empty sequence.\n",
    "\n",
    "my_list = ['apple', 'banana', 'cherry']\n",
    "random_element = random.choice(my_list)\n",
    "print(random_element)\n",
    "\n",
    "# (3). shuffling sequences\n",
    "# Using random.shuffle() function shuffles the elements of a sequence in place, allowing you to randomize the order of elements.\n",
    "\n",
    "my_list = [1, 2, 3, 4, 5]\n",
    "random.shuffle(my_list)\n",
    "print(my_list)"
   ]
  },
  {
   "cell_type": "code",
   "execution_count": null,
   "id": "483f4060",
   "metadata": {},
   "outputs": [],
   "source": []
  }
 ],
 "metadata": {
  "kernelspec": {
   "display_name": "Python 3 (ipykernel)",
   "language": "python",
   "name": "python3"
  },
  "language_info": {
   "codemirror_mode": {
    "name": "ipython",
    "version": 3
   },
   "file_extension": ".py",
   "mimetype": "text/x-python",
   "name": "python",
   "nbconvert_exporter": "python",
   "pygments_lexer": "ipython3",
   "version": "3.9.12"
  }
 },
 "nbformat": 4,
 "nbformat_minor": 5
}
